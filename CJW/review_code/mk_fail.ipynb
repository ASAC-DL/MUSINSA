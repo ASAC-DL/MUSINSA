{
 "cells": [
  {
   "cell_type": "code",
   "execution_count": 2,
   "metadata": {},
   "outputs": [],
   "source": [
    "import os\n"
   ]
  },
  {
   "cell_type": "code",
   "execution_count": 3,
   "metadata": {},
   "outputs": [],
   "source": [
    "fail_directory = r\"C:\\Users\\NT550009\\Desktop\\fail_image_2000\"  # fail_image_2000 폴더 경로 \n",
    "pass_directory = r\"C:\\Users\\NT550009\\Desktop\\pass_image_2000\"  # pass_image_2000 폴더 경로 \n",
    "\n",
    "# fail_image_2000 폴더 내의 이미지 파일 목록 가져오기\n",
    "fail_files = os.listdir(fail_directory)\n",
    "\n",
    "# pass_image_2000 폴더 내의 이미지 파일 목록 가져오기\n",
    "pass_files = os.listdir(pass_directory)\n",
    "\n",
    "# fail_image_2000 폴더에 있는 이미지 중 pass_image_2000 폴더에 있는 이미지 삭제\n",
    "for filename in fail_files:\n",
    "    if filename.endswith(\".jpg\") and filename in pass_files:\n",
    "        fail_file_path = os.path.join(fail_directory, filename)\n",
    "        os.remove(fail_file_path)"
   ]
  },
  {
   "cell_type": "code",
   "execution_count": null,
   "metadata": {},
   "outputs": [],
   "source": []
  },
  {
   "cell_type": "code",
   "execution_count": null,
   "metadata": {},
   "outputs": [],
   "source": []
  },
  {
   "cell_type": "code",
   "execution_count": null,
   "metadata": {},
   "outputs": [],
   "source": []
  }
 ],
 "metadata": {
  "kernelspec": {
   "display_name": "base",
   "language": "python",
   "name": "python3"
  },
  "language_info": {
   "codemirror_mode": {
    "name": "ipython",
    "version": 3
   },
   "file_extension": ".py",
   "mimetype": "text/x-python",
   "name": "python",
   "nbconvert_exporter": "python",
   "pygments_lexer": "ipython3",
   "version": "3.10.9"
  },
  "orig_nbformat": 4
 },
 "nbformat": 4,
 "nbformat_minor": 2
}
