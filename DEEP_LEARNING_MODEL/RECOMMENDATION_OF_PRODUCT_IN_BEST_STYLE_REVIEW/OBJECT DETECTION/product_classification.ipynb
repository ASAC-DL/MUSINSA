{
 "cells": [
  {
   "cell_type": "code",
   "execution_count": 3,
   "metadata": {},
   "outputs": [],
   "source": [
    "import pandas as pd"
   ]
  },
  {
   "cell_type": "code",
   "execution_count": 8,
   "metadata": {},
   "outputs": [
    {
     "name": "stdout",
     "output_type": "stream",
     "text": [
      "Collecting openpyxl\n",
      "  Downloading openpyxl-3.1.2-py2.py3-none-any.whl (249 kB)\n",
      "                                              0.0/250.0 kB ? eta -:--:--\n",
      "     -------------------------------------- 250.0/250.0 kB 7.7 MB/s eta 0:00:00\n",
      "Collecting et-xmlfile (from openpyxl)\n",
      "  Downloading et_xmlfile-1.1.0-py3-none-any.whl (4.7 kB)\n",
      "Installing collected packages: et-xmlfile, openpyxl\n",
      "Successfully installed et-xmlfile-1.1.0 openpyxl-3.1.2\n",
      "Note: you may need to restart the kernel to use updated packages.\n"
     ]
    }
   ],
   "source": [
    "pip install openpyxl"
   ]
  },
  {
   "cell_type": "code",
   "execution_count": 41,
   "metadata": {},
   "outputs": [
    {
     "data": {
      "text/html": [
       "<div>\n",
       "<style scoped>\n",
       "    .dataframe tbody tr th:only-of-type {\n",
       "        vertical-align: middle;\n",
       "    }\n",
       "\n",
       "    .dataframe tbody tr th {\n",
       "        vertical-align: top;\n",
       "    }\n",
       "\n",
       "    .dataframe thead th {\n",
       "        text-align: right;\n",
       "    }\n",
       "</style>\n",
       "<table border=\"1\" class=\"dataframe\">\n",
       "  <thead>\n",
       "    <tr style=\"text-align: right;\">\n",
       "      <th></th>\n",
       "      <th>Category</th>\n",
       "      <th>Item_code</th>\n",
       "    </tr>\n",
       "  </thead>\n",
       "  <tbody>\n",
       "    <tr>\n",
       "      <th>0</th>\n",
       "      <td>반소매 티셔츠</td>\n",
       "      <td>996177</td>\n",
       "    </tr>\n",
       "    <tr>\n",
       "      <th>1</th>\n",
       "      <td>반소매 티셔츠</td>\n",
       "      <td>1382658</td>\n",
       "    </tr>\n",
       "    <tr>\n",
       "      <th>2</th>\n",
       "      <td>반소매 티셔츠</td>\n",
       "      <td>996178</td>\n",
       "    </tr>\n",
       "    <tr>\n",
       "      <th>3</th>\n",
       "      <td>반소매 티셔츠</td>\n",
       "      <td>1848166</td>\n",
       "    </tr>\n",
       "    <tr>\n",
       "      <th>4</th>\n",
       "      <td>반소매 티셔츠</td>\n",
       "      <td>2086653</td>\n",
       "    </tr>\n",
       "  </tbody>\n",
       "</table>\n",
       "</div>"
      ],
      "text/plain": [
       "  Category  Item_code\n",
       "0  반소매 티셔츠     996177\n",
       "1  반소매 티셔츠    1382658\n",
       "2  반소매 티셔츠     996178\n",
       "3  반소매 티셔츠    1848166\n",
       "4  반소매 티셔츠    2086653"
      ]
     },
     "execution_count": 41,
     "metadata": {},
     "output_type": "execute_result"
    }
   ],
   "source": [
    "clothes = pd.read_excel(r\"C:\\Users\\NT550009\\Desktop\\MUSINSA\\data\\ProductNum.xlsx\")\n",
    "clothes.head()\n"
   ]
  },
  {
   "cell_type": "code",
   "execution_count": 42,
   "metadata": {},
   "outputs": [
    {
     "data": {
      "text/plain": [
       "array(['반소매 티셔츠', '셔츠/블라우스', '피케/카라 티셔츠', '니트/스웨터', '맨투맨/스웨트셔츠',\n",
       "       '긴소매 티셔츠', '후드 티셔츠', '나일론/코치 재킷', '트레이닝 재킷', '트러커 재킷', '아노락 재킷',\n",
       "       '사파리/헌팅 재킷', '스타디움 재킷', '블루종/MA-1', '슈트/블레이저 재킷', '카디건',\n",
       "       '레더/라이더스 재킷', '후드 집업', '숏패딩/숏헤비 아우터', '환절기 코트', '플리스/뽀글이',\n",
       "       '롱패딩/롱헤비 아우터', '베스트', '겨울 싱글 코트', '겨울 기타 코트', '겨울 더블 코트', '무스탕/퍼',\n",
       "       '패딩 베스트', '트레이닝/조거 팬츠', '코튼 팬츠', '슈트 팬츠/슬랙스', '데님 팬츠', '숏 팬츠',\n",
       "       '스포츠 하의', '미니스커트', '미디스커트', '롱스커트', '맥시원피스', '미디원피스', '미니원피스'],\n",
       "      dtype=object)"
      ]
     },
     "execution_count": 42,
     "metadata": {},
     "output_type": "execute_result"
    }
   ],
   "source": [
    "clothes[\"Category\"].unique()"
   ]
  },
  {
   "cell_type": "code",
   "execution_count": 43,
   "metadata": {},
   "outputs": [
    {
     "data": {
      "text/html": [
       "<div>\n",
       "<style scoped>\n",
       "    .dataframe tbody tr th:only-of-type {\n",
       "        vertical-align: middle;\n",
       "    }\n",
       "\n",
       "    .dataframe tbody tr th {\n",
       "        vertical-align: top;\n",
       "    }\n",
       "\n",
       "    .dataframe thead th {\n",
       "        text-align: right;\n",
       "    }\n",
       "</style>\n",
       "<table border=\"1\" class=\"dataframe\">\n",
       "  <thead>\n",
       "    <tr style=\"text-align: right;\">\n",
       "      <th></th>\n",
       "      <th>Subcategory</th>\n",
       "      <th>Item_code</th>\n",
       "    </tr>\n",
       "  </thead>\n",
       "  <tbody>\n",
       "    <tr>\n",
       "      <th>0</th>\n",
       "      <td>반소매 티셔츠</td>\n",
       "      <td>996177</td>\n",
       "    </tr>\n",
       "    <tr>\n",
       "      <th>1</th>\n",
       "      <td>반소매 티셔츠</td>\n",
       "      <td>1382658</td>\n",
       "    </tr>\n",
       "    <tr>\n",
       "      <th>2</th>\n",
       "      <td>반소매 티셔츠</td>\n",
       "      <td>996178</td>\n",
       "    </tr>\n",
       "    <tr>\n",
       "      <th>3</th>\n",
       "      <td>반소매 티셔츠</td>\n",
       "      <td>1848166</td>\n",
       "    </tr>\n",
       "    <tr>\n",
       "      <th>4</th>\n",
       "      <td>반소매 티셔츠</td>\n",
       "      <td>2086653</td>\n",
       "    </tr>\n",
       "  </tbody>\n",
       "</table>\n",
       "</div>"
      ],
      "text/plain": [
       "  Subcategory  Item_code\n",
       "0     반소매 티셔츠     996177\n",
       "1     반소매 티셔츠    1382658\n",
       "2     반소매 티셔츠     996178\n",
       "3     반소매 티셔츠    1848166\n",
       "4     반소매 티셔츠    2086653"
      ]
     },
     "execution_count": 43,
     "metadata": {},
     "output_type": "execute_result"
    }
   ],
   "source": [
    "clothes = clothes.rename(columns={\"Category\":\"Subcategory\"})\n",
    "clothes.head()"
   ]
  },
  {
   "cell_type": "code",
   "execution_count": 44,
   "metadata": {},
   "outputs": [],
   "source": [
    "clothes[\"Category\"] = \"\""
   ]
  },
  {
   "cell_type": "code",
   "execution_count": 45,
   "metadata": {},
   "outputs": [
    {
     "data": {
      "text/html": [
       "<div>\n",
       "<style scoped>\n",
       "    .dataframe tbody tr th:only-of-type {\n",
       "        vertical-align: middle;\n",
       "    }\n",
       "\n",
       "    .dataframe tbody tr th {\n",
       "        vertical-align: top;\n",
       "    }\n",
       "\n",
       "    .dataframe thead th {\n",
       "        text-align: right;\n",
       "    }\n",
       "</style>\n",
       "<table border=\"1\" class=\"dataframe\">\n",
       "  <thead>\n",
       "    <tr style=\"text-align: right;\">\n",
       "      <th></th>\n",
       "      <th>Subcategory</th>\n",
       "      <th>Item_code</th>\n",
       "      <th>Category</th>\n",
       "    </tr>\n",
       "  </thead>\n",
       "  <tbody>\n",
       "    <tr>\n",
       "      <th>0</th>\n",
       "      <td>반소매 티셔츠</td>\n",
       "      <td>996177</td>\n",
       "      <td></td>\n",
       "    </tr>\n",
       "    <tr>\n",
       "      <th>1</th>\n",
       "      <td>반소매 티셔츠</td>\n",
       "      <td>1382658</td>\n",
       "      <td></td>\n",
       "    </tr>\n",
       "    <tr>\n",
       "      <th>2</th>\n",
       "      <td>반소매 티셔츠</td>\n",
       "      <td>996178</td>\n",
       "      <td></td>\n",
       "    </tr>\n",
       "    <tr>\n",
       "      <th>3</th>\n",
       "      <td>반소매 티셔츠</td>\n",
       "      <td>1848166</td>\n",
       "      <td></td>\n",
       "    </tr>\n",
       "    <tr>\n",
       "      <th>4</th>\n",
       "      <td>반소매 티셔츠</td>\n",
       "      <td>2086653</td>\n",
       "      <td></td>\n",
       "    </tr>\n",
       "  </tbody>\n",
       "</table>\n",
       "</div>"
      ],
      "text/plain": [
       "  Subcategory  Item_code Category\n",
       "0     반소매 티셔츠     996177         \n",
       "1     반소매 티셔츠    1382658         \n",
       "2     반소매 티셔츠     996178         \n",
       "3     반소매 티셔츠    1848166         \n",
       "4     반소매 티셔츠    2086653         "
      ]
     },
     "execution_count": 45,
     "metadata": {},
     "output_type": "execute_result"
    }
   ],
   "source": [
    "clothes.head()"
   ]
  },
  {
   "cell_type": "code",
   "execution_count": 46,
   "metadata": {},
   "outputs": [],
   "source": [
    "# Category 값을 설정하는 함수 정의\n",
    "def set_category(row):\n",
    "    if row['Subcategory'] in [\"반소매 티셔츠\",\"셔츠/블라우스\",\"피케/카라 티셔츠\",\n",
    "                          \"니트/스웨터\",\"맨투맨/스웨트셔츠\",\"긴소매 티셔츠\",\"후드 티셔츠\"]:\n",
    "        return 'T-shirt'\n",
    "    elif row['Subcategory'] in [\"나일론/코치 재킷\",\"트레이닝 재킷\",\"트러커 재킷\",\"아노락 재킷\",\"사파리/헌팅 재킷\",\"스타디움 재킷\",\"블루종/MA-1\",\"슈트/블레이저 재킷\",\"카디건\",\"레더/라이더스 재킷\",\"후드 집업\",\"숏패딩/숏헤비 아우터\",\"환절기 코트\",\"플리스/뽀글이\",\"롱패딩/롱헤비 아우터\",\"베스트\",\"겨울 싱글 코트\",\"겨울 기타 코트\",\"겨울 더블 코트\",\"무스탕/퍼\",\n",
    "\"패딩 베스트\"]:\n",
    "        return 'outer'\n",
    "    elif row['Subcategory'] in [\"트레이닝/조거 팬츠\",\"코튼 팬츠\",\"슈트 팬츠/슬랙스\",\"데님 팬츠\",\"숏 팬츠\",\"스포츠 하의\"]:\n",
    "        return 'pants'\n",
    "    elif row['Subcategory'] in [\"미니스커트\",\"미디스커트\",\"롱스커트\"]:\n",
    "        return 'skirts'\n",
    "    elif row['Subcategory'] in [\"맥시원피스\",\"미디원피스\",\"미니원피스\"]:\n",
    "        return 'dress'\n",
    "    \n",
    "\n",
    "# apply 함수를 사용하여 Category 값을 설정\n",
    "clothes['Category'] = clothes.apply(set_category, axis=1)\n"
   ]
  },
  {
   "cell_type": "code",
   "execution_count": 47,
   "metadata": {},
   "outputs": [
    {
     "data": {
      "text/html": [
       "<div>\n",
       "<style scoped>\n",
       "    .dataframe tbody tr th:only-of-type {\n",
       "        vertical-align: middle;\n",
       "    }\n",
       "\n",
       "    .dataframe tbody tr th {\n",
       "        vertical-align: top;\n",
       "    }\n",
       "\n",
       "    .dataframe thead th {\n",
       "        text-align: right;\n",
       "    }\n",
       "</style>\n",
       "<table border=\"1\" class=\"dataframe\">\n",
       "  <thead>\n",
       "    <tr style=\"text-align: right;\">\n",
       "      <th></th>\n",
       "      <th>Subcategory</th>\n",
       "      <th>Item_code</th>\n",
       "      <th>Category</th>\n",
       "    </tr>\n",
       "  </thead>\n",
       "  <tbody>\n",
       "    <tr>\n",
       "      <th>0</th>\n",
       "      <td>반소매 티셔츠</td>\n",
       "      <td>996177</td>\n",
       "      <td>T-shirt</td>\n",
       "    </tr>\n",
       "    <tr>\n",
       "      <th>1</th>\n",
       "      <td>반소매 티셔츠</td>\n",
       "      <td>1382658</td>\n",
       "      <td>T-shirt</td>\n",
       "    </tr>\n",
       "    <tr>\n",
       "      <th>2</th>\n",
       "      <td>반소매 티셔츠</td>\n",
       "      <td>996178</td>\n",
       "      <td>T-shirt</td>\n",
       "    </tr>\n",
       "    <tr>\n",
       "      <th>3</th>\n",
       "      <td>반소매 티셔츠</td>\n",
       "      <td>1848166</td>\n",
       "      <td>T-shirt</td>\n",
       "    </tr>\n",
       "    <tr>\n",
       "      <th>4</th>\n",
       "      <td>반소매 티셔츠</td>\n",
       "      <td>2086653</td>\n",
       "      <td>T-shirt</td>\n",
       "    </tr>\n",
       "  </tbody>\n",
       "</table>\n",
       "</div>"
      ],
      "text/plain": [
       "  Subcategory  Item_code Category\n",
       "0     반소매 티셔츠     996177  T-shirt\n",
       "1     반소매 티셔츠    1382658  T-shirt\n",
       "2     반소매 티셔츠     996178  T-shirt\n",
       "3     반소매 티셔츠    1848166  T-shirt\n",
       "4     반소매 티셔츠    2086653  T-shirt"
      ]
     },
     "execution_count": 47,
     "metadata": {},
     "output_type": "execute_result"
    }
   ],
   "source": [
    "clothes.head()"
   ]
  },
  {
   "cell_type": "code",
   "execution_count": 48,
   "metadata": {},
   "outputs": [
    {
     "name": "stdout",
     "output_type": "stream",
     "text": [
      "No null values found in the 'Category' column.\n"
     ]
    }
   ],
   "source": [
    "# \"Category\" 열에서 null 값 확인\n",
    "has_null = clothes['Category'].isnull().any()\n",
    "\n",
    "# 결과 출력\n",
    "if has_null:\n",
    "    print(\"Null values exist in the 'Category' column.\")\n",
    "else:\n",
    "    print(\"No null values found in the 'Category' column.\")"
   ]
  },
  {
   "cell_type": "code",
   "execution_count": 49,
   "metadata": {},
   "outputs": [],
   "source": [
    "# 컬럼 순서 변경 reindex\n",
    "clothes = clothes.reindex(columns=['Category', 'Subcategory', 'Item_code'])\n"
   ]
  },
  {
   "cell_type": "code",
   "execution_count": 50,
   "metadata": {},
   "outputs": [
    {
     "data": {
      "text/plain": [
       "array(['T-shirt', 'outer', 'pants', 'skirts', 'dress'], dtype=object)"
      ]
     },
     "execution_count": 50,
     "metadata": {},
     "output_type": "execute_result"
    }
   ],
   "source": [
    "clothes[\"Category\"].unique()"
   ]
  },
  {
   "cell_type": "code",
   "execution_count": 51,
   "metadata": {},
   "outputs": [
    {
     "data": {
      "text/html": [
       "<div>\n",
       "<style scoped>\n",
       "    .dataframe tbody tr th:only-of-type {\n",
       "        vertical-align: middle;\n",
       "    }\n",
       "\n",
       "    .dataframe tbody tr th {\n",
       "        vertical-align: top;\n",
       "    }\n",
       "\n",
       "    .dataframe thead th {\n",
       "        text-align: right;\n",
       "    }\n",
       "</style>\n",
       "<table border=\"1\" class=\"dataframe\">\n",
       "  <thead>\n",
       "    <tr style=\"text-align: right;\">\n",
       "      <th></th>\n",
       "      <th>Category</th>\n",
       "      <th>Subcategory</th>\n",
       "      <th>Item_code</th>\n",
       "    </tr>\n",
       "  </thead>\n",
       "  <tbody>\n",
       "    <tr>\n",
       "      <th>0</th>\n",
       "      <td>T-shirt</td>\n",
       "      <td>반소매 티셔츠</td>\n",
       "      <td>996177</td>\n",
       "    </tr>\n",
       "    <tr>\n",
       "      <th>1</th>\n",
       "      <td>T-shirt</td>\n",
       "      <td>반소매 티셔츠</td>\n",
       "      <td>1382658</td>\n",
       "    </tr>\n",
       "    <tr>\n",
       "      <th>2</th>\n",
       "      <td>T-shirt</td>\n",
       "      <td>반소매 티셔츠</td>\n",
       "      <td>996178</td>\n",
       "    </tr>\n",
       "    <tr>\n",
       "      <th>3</th>\n",
       "      <td>T-shirt</td>\n",
       "      <td>반소매 티셔츠</td>\n",
       "      <td>1848166</td>\n",
       "    </tr>\n",
       "    <tr>\n",
       "      <th>4</th>\n",
       "      <td>T-shirt</td>\n",
       "      <td>반소매 티셔츠</td>\n",
       "      <td>2086653</td>\n",
       "    </tr>\n",
       "    <tr>\n",
       "      <th>...</th>\n",
       "      <td>...</td>\n",
       "      <td>...</td>\n",
       "      <td>...</td>\n",
       "    </tr>\n",
       "    <tr>\n",
       "      <th>17995</th>\n",
       "      <td>dress</td>\n",
       "      <td>미니원피스</td>\n",
       "      <td>1167612</td>\n",
       "    </tr>\n",
       "    <tr>\n",
       "      <th>17996</th>\n",
       "      <td>dress</td>\n",
       "      <td>미니원피스</td>\n",
       "      <td>1154830</td>\n",
       "    </tr>\n",
       "    <tr>\n",
       "      <th>17997</th>\n",
       "      <td>dress</td>\n",
       "      <td>미니원피스</td>\n",
       "      <td>1135804</td>\n",
       "    </tr>\n",
       "    <tr>\n",
       "      <th>17998</th>\n",
       "      <td>dress</td>\n",
       "      <td>미니원피스</td>\n",
       "      <td>865557</td>\n",
       "    </tr>\n",
       "    <tr>\n",
       "      <th>17999</th>\n",
       "      <td>dress</td>\n",
       "      <td>미니원피스</td>\n",
       "      <td>797165</td>\n",
       "    </tr>\n",
       "  </tbody>\n",
       "</table>\n",
       "<p>18000 rows × 3 columns</p>\n",
       "</div>"
      ],
      "text/plain": [
       "      Category Subcategory  Item_code\n",
       "0      T-shirt     반소매 티셔츠     996177\n",
       "1      T-shirt     반소매 티셔츠    1382658\n",
       "2      T-shirt     반소매 티셔츠     996178\n",
       "3      T-shirt     반소매 티셔츠    1848166\n",
       "4      T-shirt     반소매 티셔츠    2086653\n",
       "...        ...         ...        ...\n",
       "17995    dress       미니원피스    1167612\n",
       "17996    dress       미니원피스    1154830\n",
       "17997    dress       미니원피스    1135804\n",
       "17998    dress       미니원피스     865557\n",
       "17999    dress       미니원피스     797165\n",
       "\n",
       "[18000 rows x 3 columns]"
      ]
     },
     "execution_count": 51,
     "metadata": {},
     "output_type": "execute_result"
    }
   ],
   "source": [
    "clothes"
   ]
  },
  {
   "cell_type": "code",
   "execution_count": 52,
   "metadata": {},
   "outputs": [],
   "source": [
    "clothes.to_csv(r\"C:\\Users\\NT550009\\Desktop\\MUSINSA\\data\\category.csv\")"
   ]
  }
 ],
 "metadata": {
  "kernelspec": {
   "display_name": "base",
   "language": "python",
   "name": "python3"
  },
  "language_info": {
   "codemirror_mode": {
    "name": "ipython",
    "version": 3
   },
   "file_extension": ".py",
   "mimetype": "text/x-python",
   "name": "python",
   "nbconvert_exporter": "python",
   "pygments_lexer": "ipython3",
   "version": "3.10.11"
  },
  "orig_nbformat": 4
 },
 "nbformat": 4,
 "nbformat_minor": 2
}
