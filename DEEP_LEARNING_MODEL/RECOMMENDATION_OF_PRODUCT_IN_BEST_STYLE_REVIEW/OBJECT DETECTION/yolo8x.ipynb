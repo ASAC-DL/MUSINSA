{
  "nbformat": 4,
  "nbformat_minor": 0,
  "metadata": {
    "colab": {
      "provenance": []
    },
    "kernelspec": {
      "name": "python3",
      "display_name": "Python 3"
    },
    "language_info": {
      "name": "python"
    }
  },
  "cells": [
    {
      "cell_type": "code",
      "source": [
        "from google.colab import drive\n",
        "drive.mount('/content/drive')"
      ],
      "metadata": {
        "id": "B0xFOVUgMmNJ"
      },
      "execution_count": null,
      "outputs": []
    },
    {
      "cell_type": "code",
      "source": [
        "!unzip -qq \"/content/drive/MyDrive/DL_Project/data/clothes_detection_nc6.zip\""
      ],
      "metadata": {
        "id": "wNzImJ1VM1_3"
      },
      "execution_count": null,
      "outputs": []
    },
    {
      "cell_type": "code",
      "execution_count": null,
      "metadata": {
        "id": "iQs5j25VLH4_"
      },
      "outputs": [],
      "source": [
        "!pip install ultralytics"
      ]
    },
    {
      "cell_type": "code",
      "source": [
        "from ultralytics import YOLO\n",
        "\n",
        "model = YOLO(\"yolov8x.yaml\")  # build a new model from scratch"
      ],
      "metadata": {
        "id": "rU03vIrdNIcm"
      },
      "execution_count": null,
      "outputs": []
    },
    {
      "cell_type": "code",
      "source": [
        "yolov8x_model = model.train(data=\"/content/clothes_detection_nc6/data.yaml\", batch=16, epochs=90)"
      ],
      "metadata": {
        "id": "_ALLQosLNG86"
      },
      "execution_count": null,
      "outputs": []
    },
    {
      "cell_type": "code",
      "source": [
        "!zip -r /content/yolo8vx_image1024_epoch90_batch16.zip /content/runs/detect/train/"
      ],
      "metadata": {
        "id": "nTM8rJ_xe9u0"
      },
      "execution_count": null,
      "outputs": []
    }
  ]
}