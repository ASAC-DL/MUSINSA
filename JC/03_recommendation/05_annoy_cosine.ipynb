{
 "cells": [
  {
   "cell_type": "code",
   "execution_count": 4,
   "metadata": {},
   "outputs": [
    {
     "name": "stdout",
     "output_type": "stream",
     "text": [
      "Requirement already satisfied: tensorflow_hub in c:\\users\\nt550009\\anaconda3\\lib\\site-packages (0.13.0)\n",
      "Requirement already satisfied: numpy>=1.12.0 in c:\\users\\nt550009\\anaconda3\\lib\\site-packages (from tensorflow_hub) (1.25.0)\n",
      "Requirement already satisfied: protobuf>=3.19.6 in c:\\users\\nt550009\\anaconda3\\lib\\site-packages (from tensorflow_hub) (4.23.2)\n",
      "Note: you may need to restart the kernel to use updated packages.\n"
     ]
    }
   ],
   "source": [
    "pip install tensorflow_hub"
   ]
  },
  {
   "cell_type": "code",
   "execution_count": 5,
   "metadata": {},
   "outputs": [
    {
     "name": "stdout",
     "output_type": "stream",
     "text": [
      "Requirement already satisfied: tensorflow in c:\\users\\nt550009\\anaconda3\\lib\\site-packages (2.12.0)\n",
      "Requirement already satisfied: tensorflow-intel==2.12.0 in c:\\users\\nt550009\\anaconda3\\lib\\site-packages (from tensorflow) (2.12.0)\n",
      "Requirement already satisfied: absl-py>=1.0.0 in c:\\users\\nt550009\\anaconda3\\lib\\site-packages (from tensorflow-intel==2.12.0->tensorflow) (1.4.0)\n",
      "Requirement already satisfied: astunparse>=1.6.0 in c:\\users\\nt550009\\anaconda3\\lib\\site-packages (from tensorflow-intel==2.12.0->tensorflow) (1.6.3)\n",
      "Requirement already satisfied: flatbuffers>=2.0 in c:\\users\\nt550009\\anaconda3\\lib\\site-packages (from tensorflow-intel==2.12.0->tensorflow) (23.5.26)\n",
      "Requirement already satisfied: gast<=0.4.0,>=0.2.1 in c:\\users\\nt550009\\anaconda3\\lib\\site-packages (from tensorflow-intel==2.12.0->tensorflow) (0.4.0)\n",
      "Requirement already satisfied: google-pasta>=0.1.1 in c:\\users\\nt550009\\anaconda3\\lib\\site-packages (from tensorflow-intel==2.12.0->tensorflow) (0.2.0)\n",
      "Requirement already satisfied: h5py>=2.9.0 in c:\\users\\nt550009\\anaconda3\\lib\\site-packages (from tensorflow-intel==2.12.0->tensorflow) (3.8.0)\n",
      "Requirement already satisfied: jax>=0.3.15 in c:\\users\\nt550009\\anaconda3\\lib\\site-packages (from tensorflow-intel==2.12.0->tensorflow) (0.4.11)\n",
      "Requirement already satisfied: libclang>=13.0.0 in c:\\users\\nt550009\\anaconda3\\lib\\site-packages (from tensorflow-intel==2.12.0->tensorflow) (16.0.0)\n",
      "Collecting numpy<1.24,>=1.22 (from tensorflow-intel==2.12.0->tensorflow)\n",
      "  Using cached numpy-1.23.5-cp310-cp310-win_amd64.whl (14.6 MB)\n",
      "Requirement already satisfied: opt-einsum>=2.3.2 in c:\\users\\nt550009\\anaconda3\\lib\\site-packages (from tensorflow-intel==2.12.0->tensorflow) (3.3.0)\n",
      "Requirement already satisfied: packaging in c:\\users\\nt550009\\anaconda3\\lib\\site-packages (from tensorflow-intel==2.12.0->tensorflow) (23.0)\n",
      "Requirement already satisfied: protobuf!=4.21.0,!=4.21.1,!=4.21.2,!=4.21.3,!=4.21.4,!=4.21.5,<5.0.0dev,>=3.20.3 in c:\\users\\nt550009\\anaconda3\\lib\\site-packages (from tensorflow-intel==2.12.0->tensorflow) (4.23.2)\n",
      "Requirement already satisfied: setuptools in c:\\users\\nt550009\\anaconda3\\lib\\site-packages (from tensorflow-intel==2.12.0->tensorflow) (67.8.0)\n",
      "Requirement already satisfied: six>=1.12.0 in c:\\users\\nt550009\\anaconda3\\lib\\site-packages (from tensorflow-intel==2.12.0->tensorflow) (1.16.0)\n",
      "Requirement already satisfied: termcolor>=1.1.0 in c:\\users\\nt550009\\anaconda3\\lib\\site-packages (from tensorflow-intel==2.12.0->tensorflow) (2.3.0)\n",
      "Requirement already satisfied: typing-extensions>=3.6.6 in c:\\users\\nt550009\\anaconda3\\lib\\site-packages (from tensorflow-intel==2.12.0->tensorflow) (4.6.3)\n",
      "Requirement already satisfied: wrapt<1.15,>=1.11.0 in c:\\users\\nt550009\\anaconda3\\lib\\site-packages (from tensorflow-intel==2.12.0->tensorflow) (1.14.1)\n",
      "Requirement already satisfied: grpcio<2.0,>=1.24.3 in c:\\users\\nt550009\\anaconda3\\lib\\site-packages (from tensorflow-intel==2.12.0->tensorflow) (1.54.2)\n",
      "Requirement already satisfied: tensorboard<2.13,>=2.12 in c:\\users\\nt550009\\anaconda3\\lib\\site-packages (from tensorflow-intel==2.12.0->tensorflow) (2.12.3)\n",
      "Requirement already satisfied: tensorflow-estimator<2.13,>=2.12.0 in c:\\users\\nt550009\\anaconda3\\lib\\site-packages (from tensorflow-intel==2.12.0->tensorflow) (2.12.0)\n",
      "Requirement already satisfied: keras<2.13,>=2.12.0 in c:\\users\\nt550009\\anaconda3\\lib\\site-packages (from tensorflow-intel==2.12.0->tensorflow) (2.12.0)\n",
      "Requirement already satisfied: tensorflow-io-gcs-filesystem>=0.23.1 in c:\\users\\nt550009\\anaconda3\\lib\\site-packages (from tensorflow-intel==2.12.0->tensorflow) (0.31.0)\n",
      "Requirement already satisfied: wheel<1.0,>=0.23.0 in c:\\users\\nt550009\\anaconda3\\lib\\site-packages (from astunparse>=1.6.0->tensorflow-intel==2.12.0->tensorflow) (0.40.0)\n",
      "Requirement already satisfied: ml-dtypes>=0.1.0 in c:\\users\\nt550009\\anaconda3\\lib\\site-packages (from jax>=0.3.15->tensorflow-intel==2.12.0->tensorflow) (0.2.0)\n",
      "Requirement already satisfied: scipy>=1.7 in c:\\users\\nt550009\\anaconda3\\lib\\site-packages (from jax>=0.3.15->tensorflow-intel==2.12.0->tensorflow) (1.10.1)\n",
      "Requirement already satisfied: google-auth<3,>=1.6.3 in c:\\users\\nt550009\\anaconda3\\lib\\site-packages (from tensorboard<2.13,>=2.12->tensorflow-intel==2.12.0->tensorflow) (2.19.1)\n",
      "Requirement already satisfied: google-auth-oauthlib<1.1,>=0.5 in c:\\users\\nt550009\\anaconda3\\lib\\site-packages (from tensorboard<2.13,>=2.12->tensorflow-intel==2.12.0->tensorflow) (1.0.0)\n",
      "Requirement already satisfied: markdown>=2.6.8 in c:\\users\\nt550009\\anaconda3\\lib\\site-packages (from tensorboard<2.13,>=2.12->tensorflow-intel==2.12.0->tensorflow) (3.4.3)\n",
      "Requirement already satisfied: requests<3,>=2.21.0 in c:\\users\\nt550009\\anaconda3\\lib\\site-packages (from tensorboard<2.13,>=2.12->tensorflow-intel==2.12.0->tensorflow) (2.29.0)\n",
      "Requirement already satisfied: tensorboard-data-server<0.8.0,>=0.7.0 in c:\\users\\nt550009\\anaconda3\\lib\\site-packages (from tensorboard<2.13,>=2.12->tensorflow-intel==2.12.0->tensorflow) (0.7.0)\n",
      "Requirement already satisfied: werkzeug>=1.0.1 in c:\\users\\nt550009\\anaconda3\\lib\\site-packages (from tensorboard<2.13,>=2.12->tensorflow-intel==2.12.0->tensorflow) (2.3.6)\n",
      "Requirement already satisfied: cachetools<6.0,>=2.0.0 in c:\\users\\nt550009\\anaconda3\\lib\\site-packages (from google-auth<3,>=1.6.3->tensorboard<2.13,>=2.12->tensorflow-intel==2.12.0->tensorflow) (5.3.1)\n",
      "Requirement already satisfied: pyasn1-modules>=0.2.1 in c:\\users\\nt550009\\anaconda3\\lib\\site-packages (from google-auth<3,>=1.6.3->tensorboard<2.13,>=2.12->tensorflow-intel==2.12.0->tensorflow) (0.3.0)\n",
      "Requirement already satisfied: rsa<5,>=3.1.4 in c:\\users\\nt550009\\anaconda3\\lib\\site-packages (from google-auth<3,>=1.6.3->tensorboard<2.13,>=2.12->tensorflow-intel==2.12.0->tensorflow) (4.9)\n",
      "Requirement already satisfied: urllib3<2.0 in c:\\users\\nt550009\\anaconda3\\lib\\site-packages (from google-auth<3,>=1.6.3->tensorboard<2.13,>=2.12->tensorflow-intel==2.12.0->tensorflow) (1.26.16)\n",
      "Requirement already satisfied: requests-oauthlib>=0.7.0 in c:\\users\\nt550009\\anaconda3\\lib\\site-packages (from google-auth-oauthlib<1.1,>=0.5->tensorboard<2.13,>=2.12->tensorflow-intel==2.12.0->tensorflow) (1.3.1)\n",
      "Requirement already satisfied: charset-normalizer<4,>=2 in c:\\users\\nt550009\\anaconda3\\lib\\site-packages (from requests<3,>=2.21.0->tensorboard<2.13,>=2.12->tensorflow-intel==2.12.0->tensorflow) (2.0.4)\n",
      "Requirement already satisfied: idna<4,>=2.5 in c:\\users\\nt550009\\anaconda3\\lib\\site-packages (from requests<3,>=2.21.0->tensorboard<2.13,>=2.12->tensorflow-intel==2.12.0->tensorflow) (2.10)\n",
      "Requirement already satisfied: certifi>=2017.4.17 in c:\\users\\nt550009\\anaconda3\\lib\\site-packages (from requests<3,>=2.21.0->tensorboard<2.13,>=2.12->tensorflow-intel==2.12.0->tensorflow) (2023.5.7)\n",
      "Requirement already satisfied: MarkupSafe>=2.1.1 in c:\\users\\nt550009\\anaconda3\\lib\\site-packages (from werkzeug>=1.0.1->tensorboard<2.13,>=2.12->tensorflow-intel==2.12.0->tensorflow) (2.1.1)\n",
      "Requirement already satisfied: pyasn1<0.6.0,>=0.4.6 in c:\\users\\nt550009\\anaconda3\\lib\\site-packages (from pyasn1-modules>=0.2.1->google-auth<3,>=1.6.3->tensorboard<2.13,>=2.12->tensorflow-intel==2.12.0->tensorflow) (0.5.0)\n",
      "Requirement already satisfied: oauthlib>=3.0.0 in c:\\users\\nt550009\\anaconda3\\lib\\site-packages (from requests-oauthlib>=0.7.0->google-auth-oauthlib<1.1,>=0.5->tensorboard<2.13,>=2.12->tensorflow-intel==2.12.0->tensorflow) (3.2.2)\n",
      "Installing collected packages: numpy\n",
      "  Attempting uninstall: numpy\n",
      "    Found existing installation: numpy 1.25.0\n",
      "    Uninstalling numpy-1.25.0:\n",
      "      Successfully uninstalled numpy-1.25.0\n",
      "Note: you may need to restart the kernel to use updated packages.\n"
     ]
    },
    {
     "name": "stderr",
     "output_type": "stream",
     "text": [
      "ERROR: Could not install packages due to an OSError: [WinError 5] 액세스가 거부되었습니다: 'C:\\\\Users\\\\NT550009\\\\anaconda3\\\\Lib\\\\site-packages\\\\~.mpy\\\\.libs\\\\libopenblas64__v0.3.23-gcc_10_3_0.dll'\n",
      "Consider using the `--user` option or check the permissions.\n",
      "\n"
     ]
    }
   ],
   "source": [
    "pip install tensorflow"
   ]
  },
  {
   "cell_type": "code",
   "execution_count": 6,
   "metadata": {},
   "outputs": [
    {
     "name": "stdout",
     "output_type": "stream",
     "text": [
      "Requirement already satisfied: Cmake in c:\\users\\nt550009\\anaconda3\\lib\\site-packages (3.26.4)\n",
      "Note: you may need to restart the kernel to use updated packages.\n"
     ]
    }
   ],
   "source": [
    "pip install Cmake"
   ]
  },
  {
   "cell_type": "code",
   "execution_count": 7,
   "metadata": {},
   "outputs": [
    {
     "name": "stdout",
     "output_type": "stream",
     "text": [
      "Requirement already satisfied: sklearn in c:\\users\\nt550009\\anaconda3\\lib\\site-packages (0.0.post5)\n",
      "Note: you may need to restart the kernel to use updated packages.\n"
     ]
    }
   ],
   "source": [
    "pip install sklearn"
   ]
  },
  {
   "cell_type": "code",
   "execution_count": 8,
   "metadata": {
    "collapsed": true
   },
   "outputs": [
    {
     "name": "stdout",
     "output_type": "stream",
     "text": [
      "Requirement already satisfied: numpy in c:\\users\\nt550009\\anaconda3\\lib\\site-packages (1.23.5)\n",
      "Collecting numpy\n",
      "  Using cached numpy-1.25.0-cp310-cp310-win_amd64.whl (15.0 MB)\n",
      "Requirement already satisfied: scipy in c:\\users\\nt550009\\anaconda3\\lib\\site-packages (1.10.1)\n",
      "Installing collected packages: numpy\n",
      "  Attempting uninstall: numpy\n",
      "    Found existing installation: numpy 1.23.5\n",
      "    Uninstalling numpy-1.23.5:\n",
      "      Successfully uninstalled numpy-1.23.5\n",
      "Note: you may need to restart the kernel to use updated packages.\n"
     ]
    },
    {
     "name": "stderr",
     "output_type": "stream",
     "text": [
      "ERROR: Could not install packages due to an OSError: [WinError 5] 액세스가 거부되었습니다: 'C:\\\\Users\\\\NT550009\\\\anaconda3\\\\Lib\\\\site-packages\\\\~=mpy\\\\.libs\\\\libopenblas.FB5AE2TYXYH2IJRDKGDGQ3XBKLKTF43H.gfortran-win_amd64.dll'\n",
      "Consider using the `--user` option or check the permissions.\n",
      "\n"
     ]
    }
   ],
   "source": [
    "pip install --upgrade numpy scipy"
   ]
  },
  {
   "cell_type": "code",
   "execution_count": 9,
   "metadata": {
    "scrolled": true
   },
   "outputs": [
    {
     "name": "stdout",
     "output_type": "stream",
     "text": [
      "Requirement already satisfied: mkl in c:\\users\\nt550009\\anaconda3\\lib\\site-packages (2023.1.0)\n",
      "Requirement already satisfied: intel-openmp==2023.* in c:\\users\\nt550009\\anaconda3\\lib\\site-packages (from mkl) (2023.1.0)\n",
      "Requirement already satisfied: tbb==2021.* in c:\\users\\nt550009\\anaconda3\\lib\\site-packages (from mkl) (2021.9.0)\n",
      "Note: you may need to restart the kernel to use updated packages.\n"
     ]
    }
   ],
   "source": [
    "pip install mkl"
   ]
  },
  {
   "cell_type": "code",
   "execution_count": 10,
   "metadata": {},
   "outputs": [
    {
     "name": "stdout",
     "output_type": "stream",
     "text": [
      "Collecting package metadata (current_repodata.json): ...working... done\n",
      "Solving environment: ...working... done\n",
      "\n",
      "## Package Plan ##\n",
      "\n",
      "  environment location: C:\\Users\\NT550009\\anaconda3\n",
      "\n",
      "  added / updated specs:\n",
      "    - conda\n",
      "\n",
      "\n",
      "The following NEW packages will be INSTALLED:\n",
      "\n",
      "  numpy-base         pkgs/main/win-64::numpy-base-1.24.3-py310h65a83cf_1 \n",
      "  wheel              pkgs/main/win-64::wheel-0.38.4-py310haa95532_0 \n",
      "\n",
      "The following packages will be UPDATED:\n",
      "\n",
      "  ca-certificates    conda-forge::ca-certificates-2023.5.7~ --> pkgs/main::ca-certificates-2023.05.30-haa95532_0 \n",
      "\n",
      "The following packages will be SUPERSEDED by a higher-priority channel:\n",
      "\n",
      "  openssl            conda-forge::openssl-1.1.1u-hcfcfb64_0 --> pkgs/main::openssl-1.1.1u-h2bbff1b_0 \n",
      "\n",
      "\n",
      "\n",
      "Downloading and Extracting Packages\n",
      "\n",
      "\n",
      "Preparing transaction: ...working... done\n",
      "Verifying transaction: ...working... done\n",
      "Executing transaction: ...working... done\n",
      "\n",
      "Note: you may need to restart the kernel to use updated packages.\n"
     ]
    },
    {
     "name": "stderr",
     "output_type": "stream",
     "text": [
      "\n",
      "The environment is inconsistent, please check the package plan carefully\n",
      "The following packages are causing the inconsistency:\n",
      "\n",
      "  - defaults/win-64::aiofiles==22.1.0=py310haa95532_0\n",
      "  - defaults/win-64::aiosqlite==0.18.0=py310haa95532_0\n",
      "  - defaults/win-64::anaconda-client==1.11.3=py310haa95532_0\n",
      "  - defaults/win-64::anaconda-navigator==2.4.1=py310haa95532_0\n",
      "  - defaults/win-64::anaconda-project==0.11.1=py310haa95532_0\n",
      "  - defaults/win-64::anyio==3.5.0=py310haa95532_0\n",
      "  - defaults/noarch::appdirs==1.4.4=pyhd3eb1b0_0\n",
      "  - defaults/noarch::argon2-cffi==21.3.0=pyhd3eb1b0_0\n",
      "  - defaults/win-64::argon2-cffi-bindings==21.2.0=py310h2bbff1b_0\n",
      "  - defaults/noarch::asttokens==2.0.5=pyhd3eb1b0_0\n",
      "  - defaults/win-64::attrs==22.1.0=py310haa95532_0\n",
      "  - defaults/win-64::babel==2.11.0=py310haa95532_0\n",
      "  - defaults/noarch::backcall==0.2.0=pyhd3eb1b0_0\n",
      "  - defaults/noarch::backports==1.1=pyhd3eb1b0_0\n",
      "  - defaults/noarch::backports.functools_lru_cache==1.6.4=pyhd3eb1b0_0\n",
      "  - defaults/noarch::backports.tempfile==1.0=pyhd3eb1b0_1\n",
      "  - defaults/noarch::backports.weakref==1.0.post1=py_1\n",
      "  - defaults/win-64::beautifulsoup4==4.12.2=py310haa95532_0\n",
      "  - defaults/noarch::bleach==4.1.0=pyhd3eb1b0_0\n",
      "  - defaults/win-64::boltons==23.0.0=py310haa95532_0\n",
      "  - defaults/win-64::bottleneck==1.3.5=py310h9128911_0\n",
      "  - defaults/win-64::brotlipy==0.7.0=py310h2bbff1b_1002\n",
      "  - conda-forge/noarch::certifi==2023.5.7=pyhd8ed1ab_0\n",
      "  - defaults/win-64::cffi==1.15.1=py310h2bbff1b_3\n",
      "  - defaults/win-64::chardet==4.0.0=py310haa95532_1003\n",
      "  - defaults/noarch::charset-normalizer==2.0.4=pyhd3eb1b0_0\n",
      "  - defaults/win-64::click==8.0.4=py310haa95532_0\n",
      "  - defaults/win-64::clyent==1.2.2=py310haa95532_1\n",
      "  - defaults/win-64::colorama==0.4.6=py310haa95532_0\n",
      "  - defaults/win-64::comm==0.1.2=py310haa95532_0\n",
      "  - conda-forge/win-64::conda==23.5.0=py310h5588dad_1\n",
      "  - defaults/win-64::conda-build==3.24.0=py310haa95532_0\n",
      "  - defaults/win-64::conda-content-trust==0.1.3=py310haa95532_0\n",
      "  - defaults/noarch::conda-pack==0.6.0=pyhd3eb1b0_0\n",
      "  - defaults/win-64::conda-package-handling==2.1.0=py310haa95532_0\n",
      "  - defaults/win-64::conda-package-streaming==0.8.0=py310haa95532_0\n",
      "  - defaults/win-64::conda-repo-cli==1.0.41=py310haa95532_0\n",
      "  - defaults/noarch::conda-token==0.4.0=pyhd3eb1b0_0\n",
      "  - defaults/noarch::conda-verify==3.4.2=py_1\n",
      "  - defaults/win-64::console_shortcut==0.1.1=4\n",
      "  - defaults/win-64::contourpy==1.0.5=py310h59b6b97_0\n",
      "  - defaults/win-64::cryptography==39.0.1=py310h21b164f_0\n",
      "  - defaults/noarch::cycler==0.11.0=pyhd3eb1b0_0\n",
      "  - defaults/win-64::debugpy==1.5.1=py310hd77b12b_0\n",
      "  - defaults/noarch::decorator==5.1.1=pyhd3eb1b0_0\n",
      "  - defaults/noarch::defusedxml==0.7.1=pyhd3eb1b0_0\n",
      "  - defaults/win-64::entrypoints==0.4=py310haa95532_0\n",
      "  - defaults/noarch::executing==0.8.3=pyhd3eb1b0_0\n",
      "  - defaults/win-64::filelock==3.9.0=py310haa95532_0\n",
      "  - defaults/noarch::fonttools==4.25.0=pyhd3eb1b0_0\n",
      "  - defaults/win-64::future==0.18.3=py310haa95532_0\n",
      "  - defaults/noarch::glob2==0.7=pyhd3eb1b0_0\n",
      "  - defaults/win-64::idna==3.4=py310haa95532_0\n",
      "  - defaults/win-64::ipykernel==6.19.2=py310h9909e9c_0\n",
      "  - defaults/win-64::ipython==8.12.0=py310haa95532_0\n",
      "  - defaults/noarch::ipython_genutils==0.2.0=pyhd3eb1b0_1\n",
      "  - defaults/win-64::ipywidgets==8.0.4=py310haa95532_0\n",
      "  - defaults/win-64::jedi==0.18.1=py310haa95532_1\n",
      "  - defaults/win-64::jinja2==3.1.2=py310haa95532_0\n",
      "  - defaults/win-64::joblib==1.2.0=py310haa95532_0\n",
      "  - defaults/win-64::jpype1==1.4.1=py310h59b6b97_0\n",
      "  - defaults/noarch::json5==0.9.6=pyhd3eb1b0_0\n",
      "  - defaults/noarch::jsonpatch==1.32=pyhd3eb1b0_0\n",
      "  - defaults/noarch::jsonpointer==2.1=pyhd3eb1b0_0\n",
      "  - defaults/win-64::jsonschema==4.17.3=py310haa95532_0\n",
      "  - defaults/win-64::jupyter==1.0.0=py310haa95532_8\n",
      "  - defaults/win-64::jupyterlab==3.6.3=py310haa95532_0\n",
      "  - defaults/noarch::jupyterlab_pygments==0.1.2=py_0\n",
      "  - defaults/win-64::jupyterlab_server==2.22.0=py310haa95532_0\n",
      "  - defaults/win-64::jupyterlab_widgets==3.0.5=py310haa95532_0\n",
      "  - defaults/win-64::jupyter_client==8.1.0=py310haa95532_0\n",
      "  - defaults/win-64::jupyter_console==6.6.3=py310haa95532_0\n",
      "  - defaults/win-64::jupyter_core==5.3.0=py310haa95532_0\n",
      "  - defaults/win-64::jupyter_events==0.6.3=py310haa95532_0\n",
      "  - defaults/win-64::jupyter_server==2.5.0=py310haa95532_0\n",
      "  - defaults/win-64::jupyter_server_fileid==0.9.0=py310haa95532_0\n",
      "  - defaults/win-64::jupyter_server_terminals==0.4.4=py310haa95532_1\n",
      "  - defaults/win-64::jupyter_server_ydoc==0.8.0=py310haa95532_1\n",
      "  - defaults/win-64::jupyter_ydoc==0.2.4=py310haa95532_0\n",
      "  - defaults/win-64::kiwisolver==1.4.4=py310hd77b12b_0\n",
      "  - defaults/win-64::lxml==4.9.2=py310h2bbff1b_0\n",
      "  - defaults/win-64::markupsafe==2.1.1=py310h2bbff1b_0\n",
      "  - defaults/win-64::matplotlib-base==3.7.1=py310h4ed8f06_1\n",
      "  - defaults/win-64::matplotlib-inline==0.1.6=py310haa95532_0\n",
      "  - defaults/win-64::menuinst==1.4.19=py310h59b6b97_0\n",
      "  - defaults/win-64::mistune==0.8.4=py310h2bbff1b_1000\n",
      "  - defaults/win-64::mkl-service==2.4.0=py310h2bbff1b_1\n",
      "  - defaults/win-64::mkl_fft==1.3.6=py310h4ed8f06_1\n",
      "  - defaults/win-64::mkl_random==1.2.2=py310h4ed8f06_1\n",
      "  - defaults/win-64::mlxtend==0.22.0=py310haa95532_0\n",
      "  - defaults/noarch::munkres==1.1.4=py_0\n",
      "  - defaults/win-64::navigator-updater==0.4.0=py310haa95532_0\n",
      "  - defaults/win-64::nbclassic==0.5.5=py310haa95532_0\n",
      "  - defaults/win-64::nbclient==0.5.13=py310haa95532_0\n",
      "  - defaults/win-64::nbconvert==6.5.4=py310haa95532_0\n",
      "  - defaults/win-64::nbformat==5.7.0=py310haa95532_0\n",
      "  - defaults/win-64::nest-asyncio==1.5.6=py310haa95532_0\n",
      "  - defaults/win-64::notebook==6.5.4=py310haa95532_0\n",
      "  - defaults/win-64::notebook-shim==0.2.2=py310haa95532_0\n",
      "  - defaults/win-64::numexpr==2.8.4=py310h2cd9be0_1\n",
      "  - defaults/win-64::numpy==1.24.3=py310h055cbcc_1\n",
      "  - defaults/win-64::packaging==23.0=py310haa95532_0\n",
      "  - defaults/win-64::pandas==1.5.3=py310h4ed8f06_0\n",
      "  - defaults/noarch::pandocfilters==1.5.0=pyhd3eb1b0_0\n",
      "  - defaults/noarch::parso==0.8.3=pyhd3eb1b0_0\n",
      "  - defaults/noarch::pathlib==1.0.1=pyhd3eb1b0_1\n",
      "  - defaults/noarch::pickleshare==0.7.5=pyhd3eb1b0_1003\n",
      "  - defaults/win-64::pillow==9.4.0=py310hd77b12b_0\n",
      "  - defaults/win-64::pip==23.1.2=py310haa95532_0\n",
      "  - defaults/win-64::pkginfo==1.9.6=py310haa95532_0\n",
      "  - defaults/win-64::platformdirs==2.5.2=py310haa95532_0\n",
      "  - defaults/win-64::pluggy==1.0.0=py310haa95532_1\n",
      "  - defaults/win-64::ply==3.11=py310haa95532_0\n",
      "  - defaults/noarch::pooch==1.4.0=pyhd3eb1b0_0\n",
      "  - defaults/win-64::powershell_shortcut==0.0.1=3\n",
      "  - defaults/win-64::prometheus_client==0.14.1=py310haa95532_0\n",
      "  - defaults/win-64::prompt-toolkit==3.0.36=py310haa95532_0\n",
      "  - defaults/noarch::prompt_toolkit==3.0.36=hd3eb1b0_0\n",
      "  - defaults/win-64::psutil==5.9.0=py310h2bbff1b_0\n",
      "  - defaults/noarch::pure_eval==0.2.2=pyhd3eb1b0_0\n",
      "  - defaults/win-64::py-lief==0.12.3=py310hd77b12b_0\n",
      "  - defaults/win-64::pycosat==0.6.4=py310h2bbff1b_0\n",
      "  - defaults/noarch::pycparser==2.21=pyhd3eb1b0_0\n",
      "  - defaults/win-64::pygments==2.15.1=py310haa95532_1\n",
      "  - defaults/win-64::pyjwt==2.4.0=py310haa95532_0\n",
      "  - defaults/win-64::pyopenssl==23.0.0=py310haa95532_0\n",
      "  - defaults/win-64::pyparsing==3.0.9=py310haa95532_0\n",
      "  - defaults/win-64::pyqt==5.15.7=py310hd77b12b_0\n",
      "  - defaults/win-64::pyqt5-sip==12.11.0=py310hd77b12b_0\n",
      "  - defaults/win-64::pyrsistent==0.18.0=py310h2bbff1b_0\n",
      "  - defaults/win-64::pysocks==1.7.1=py310haa95532_0\n",
      "  - defaults/win-64::python==3.10.11=h966fe2a_2\n",
      "  - conda-forge/win-64::python-annoy==1.17.2=py310h00ffb61_0\n",
      "  - defaults/noarch::python-dateutil==2.8.2=pyhd3eb1b0_0\n",
      "  - defaults/win-64::python-fastjsonschema==2.16.2=py310haa95532_0\n",
      "  - defaults/win-64::python-json-logger==2.0.7=py310haa95532_0\n",
      "  - defaults/noarch::python-libarchive-c==2.9=pyhd3eb1b0_1\n",
      "  - conda-forge/win-64::python_abi==3.10=2_cp310\n",
      "  - defaults/win-64::pytz==2022.7=py310haa95532_0\n",
      "  - defaults/win-64::pywin32==305=py310h2bbff1b_0\n",
      "  - defaults/win-64::pywinpty==2.0.10=py310h5da7b33_0\n",
      "  - defaults/win-64::pyyaml==6.0=py310h2bbff1b_1\n",
      "  - defaults/win-64::pyzmq==25.1.0=py310hd77b12b_0\n",
      "  - defaults/win-64::qtconsole==5.4.2=py310haa95532_0\n",
      "  - defaults/win-64::qtpy==2.2.0=py310haa95532_0\n",
      "  - defaults/win-64::requests==2.29.0=py310haa95532_0\n",
      "  - defaults/noarch::requests-toolbelt==0.9.1=pyhd3eb1b0_0\n",
      "  - defaults/win-64::rfc3339-validator==0.1.4=py310haa95532_0\n",
      "  - defaults/win-64::rfc3986-validator==0.1.1=py310haa95532_0\n",
      "  - defaults/win-64::ruamel.yaml==0.17.21=py310h2bbff1b_0\n",
      "  - defaults/win-64::ruamel.yaml.clib==0.2.6=py310h2bbff1b_1\n",
      "  - defaults/win-64::ruamel_yaml==0.17.21=py310h2bbff1b_0\n",
      "  - defaults/win-64::scikit-learn==1.2.2=py310hd77b12b_1\n",
      "  - defaults/win-64::scipy==1.10.1=py310h309d312_1\n",
      "  - defaults/win-64::selenium==3.141.0=py310h2bbff1b_1000\n",
      "  - defaults/noarch::send2trash==1.8.0=pyhd3eb1b0_1\n",
      "  - defaults/win-64::setuptools==67.8.0=py310haa95532_0\n",
      "  - defaults/win-64::sip==6.6.2=py310hd77b12b_0\n",
      "  - defaults/noarch::six==1.16.0=pyhd3eb1b0_1\n",
      "  - defaults/win-64::sniffio==1.2.0=py310haa95532_1\n",
      "  - defaults/win-64::soupsieve==2.4=py310haa95532_0\n",
      "  - defaults/noarch::stack_data==0.2.0=pyhd3eb1b0_0\n",
      "  - defaults/win-64::terminado==0.17.1=py310haa95532_0\n",
      "  - defaults/noarch::threadpoolctl==2.2.0=pyh0d69192_0\n",
      "  - defaults/win-64::tinycss2==1.2.1=py310haa95532_0\n",
      "  - defaults/noarch::toml==0.10.2=pyhd3eb1b0_0\n",
      "  - defaults/win-64::tomli==2.0.1=py310haa95532_0\n",
      "  - defaults/win-64::toolz==0.12.0=py310haa95532_0\n",
      "  - defaults/win-64::tornado==6.2=py310h2bbff1b_0\n",
      "  - defaults/win-64::tqdm==4.65.0=py310h9909e9c_0\n",
      "  - defaults/win-64::traitlets==5.7.1=py310haa95532_0\n",
      "  - defaults/win-64::typing-extensions==4.6.3=py310haa95532_0\n",
      "  - defaults/win-64::typing_extensions==4.6.3=py310haa95532_0\n",
      "  - defaults/win-64::ujson==5.4.0=py310hd77b12b_0\n",
      "  - defaults/win-64::urllib3==1.26.16=py310haa95532_0\n",
      "  - defaults/noarch::wcwidth==0.2.5=pyhd3eb1b0_0\n",
      "  - defaults/win-64::webencodings==0.5.1=py310haa95532_1\n",
      "  - defaults/win-64::websocket-client==0.58.0=py310haa95532_4\n",
      "  - defaults/win-64::widgetsnbextension==4.0.5=py310haa95532_0\n",
      "  - defaults/win-64::win_inet_pton==1.1.0=py310haa95532_0\n",
      "  - defaults/noarch::xlrd==2.0.1=pyhd3eb1b0_1\n",
      "  - defaults/win-64::y-py==0.5.9=py310hb6bf4ef_0\n",
      "  - defaults/win-64::ypy-websocket==0.8.2=py310haa95532_0\n",
      "  - defaults/win-64::zstandard==0.19.0=py310h2bbff1b_0\n"
     ]
    }
   ],
   "source": [
    "conda update -n base -c defaults conda"
   ]
  },
  {
   "cell_type": "code",
   "execution_count": 11,
   "metadata": {},
   "outputs": [
    {
     "name": "stdout",
     "output_type": "stream",
     "text": [
      "Collecting package metadata (current_repodata.json): ...working... done\n",
      "Solving environment: ...working... done\n",
      "\n",
      "## Package Plan ##\n",
      "\n",
      "  environment location: C:\\Users\\NT550009\\anaconda3\n",
      "\n",
      "  added / updated specs:\n",
      "    - python-annoy\n",
      "\n",
      "\n",
      "The following packages will be SUPERSEDED by a higher-priority channel:\n",
      "\n",
      "  ca-certificates    pkgs/main::ca-certificates-2023.05.30~ --> conda-forge::ca-certificates-2023.5.7-h56e8100_0 \n",
      "  openssl              pkgs/main::openssl-1.1.1u-h2bbff1b_0 --> conda-forge::openssl-1.1.1u-hcfcfb64_0 \n",
      "\n",
      "\n",
      "\n",
      "Downloading and Extracting Packages\n",
      "\n",
      "\n",
      "Preparing transaction: ...working... done\n",
      "Verifying transaction: ...working... done\n",
      "Executing transaction: ...working... done\n",
      "\n",
      "Note: you may need to restart the kernel to use updated packages.\n"
     ]
    }
   ],
   "source": [
    "conda install -c conda-forge python-annoy"
   ]
  },
  {
   "cell_type": "code",
   "execution_count": 12,
   "metadata": {},
   "outputs": [
    {
     "name": "stdout",
     "output_type": "stream",
     "text": [
      "Requirement already satisfied: torch in c:\\users\\nt550009\\anaconda3\\lib\\site-packages (2.0.1)\n",
      "Requirement already satisfied: filelock in c:\\users\\nt550009\\anaconda3\\lib\\site-packages (from torch) (3.9.0)\n",
      "Requirement already satisfied: typing-extensions in c:\\users\\nt550009\\anaconda3\\lib\\site-packages (from torch) (4.6.3)\n",
      "Requirement already satisfied: sympy in c:\\users\\nt550009\\anaconda3\\lib\\site-packages (from torch) (1.12)\n",
      "Requirement already satisfied: networkx in c:\\users\\nt550009\\anaconda3\\lib\\site-packages (from torch) (3.1)\n",
      "Requirement already satisfied: jinja2 in c:\\users\\nt550009\\anaconda3\\lib\\site-packages (from torch) (3.1.2)\n",
      "Requirement already satisfied: MarkupSafe>=2.0 in c:\\users\\nt550009\\anaconda3\\lib\\site-packages (from jinja2->torch) (2.1.1)\n",
      "Requirement already satisfied: mpmath>=0.19 in c:\\users\\nt550009\\anaconda3\\lib\\site-packages (from sympy->torch) (1.3.0)\n",
      "Note: you may need to restart the kernel to use updated packages.\n"
     ]
    }
   ],
   "source": [
    "pip install torch"
   ]
  },
  {
   "cell_type": "code",
   "execution_count": 13,
   "metadata": {},
   "outputs": [
    {
     "name": "stdout",
     "output_type": "stream",
     "text": [
      "Requirement already satisfied: torchvision in c:\\users\\nt550009\\anaconda3\\lib\\site-packages (0.15.2)\n",
      "Requirement already satisfied: numpy in c:\\users\\nt550009\\anaconda3\\lib\\site-packages (from torchvision) (1.24.3)\n",
      "Requirement already satisfied: requests in c:\\users\\nt550009\\anaconda3\\lib\\site-packages (from torchvision) (2.29.0)\n",
      "Requirement already satisfied: torch==2.0.1 in c:\\users\\nt550009\\anaconda3\\lib\\site-packages (from torchvision) (2.0.1)\n",
      "Requirement already satisfied: pillow!=8.3.*,>=5.3.0 in c:\\users\\nt550009\\anaconda3\\lib\\site-packages (from torchvision) (9.4.0)\n",
      "Requirement already satisfied: filelock in c:\\users\\nt550009\\anaconda3\\lib\\site-packages (from torch==2.0.1->torchvision) (3.9.0)\n",
      "Requirement already satisfied: typing-extensions in c:\\users\\nt550009\\anaconda3\\lib\\site-packages (from torch==2.0.1->torchvision) (4.6.3)\n",
      "Requirement already satisfied: sympy in c:\\users\\nt550009\\anaconda3\\lib\\site-packages (from torch==2.0.1->torchvision) (1.12)\n",
      "Requirement already satisfied: networkx in c:\\users\\nt550009\\anaconda3\\lib\\site-packages (from torch==2.0.1->torchvision) (3.1)\n",
      "Requirement already satisfied: jinja2 in c:\\users\\nt550009\\anaconda3\\lib\\site-packages (from torch==2.0.1->torchvision) (3.1.2)\n",
      "Requirement already satisfied: charset-normalizer<4,>=2 in c:\\users\\nt550009\\anaconda3\\lib\\site-packages (from requests->torchvision) (2.0.4)\n",
      "Requirement already satisfied: idna<4,>=2.5 in c:\\users\\nt550009\\anaconda3\\lib\\site-packages (from requests->torchvision) (2.10)\n",
      "Requirement already satisfied: urllib3<1.27,>=1.21.1 in c:\\users\\nt550009\\anaconda3\\lib\\site-packages (from requests->torchvision) (1.26.16)\n",
      "Requirement already satisfied: certifi>=2017.4.17 in c:\\users\\nt550009\\anaconda3\\lib\\site-packages (from requests->torchvision) (2023.5.7)\n",
      "Requirement already satisfied: MarkupSafe>=2.0 in c:\\users\\nt550009\\anaconda3\\lib\\site-packages (from jinja2->torch==2.0.1->torchvision) (2.1.1)\n",
      "Requirement already satisfied: mpmath>=0.19 in c:\\users\\nt550009\\anaconda3\\lib\\site-packages (from sympy->torch==2.0.1->torchvision) (1.3.0)\n",
      "Note: you may need to restart the kernel to use updated packages.\n"
     ]
    }
   ],
   "source": [
    "pip install torchvision"
   ]
  },
  {
   "cell_type": "code",
   "execution_count": 14,
   "metadata": {},
   "outputs": [
    {
     "name": "stdout",
     "output_type": "stream",
     "text": [
      "Collecting git+https://github.com/openai/clip.git\n",
      "  Cloning https://github.com/openai/clip.git to c:\\users\\nt550009\\appdata\\local\\temp\\pip-req-build-u3jiw3s3\n",
      "  Resolved https://github.com/openai/clip.git to commit a9b1bf5920416aaeaec965c25dd9e8f98c864f16\n",
      "  Preparing metadata (setup.py): started\n",
      "  Preparing metadata (setup.py): finished with status 'done'\n",
      "Requirement already satisfied: ftfy in c:\\users\\nt550009\\anaconda3\\lib\\site-packages (from clip==1.0) (6.1.1)\n",
      "Requirement already satisfied: regex in c:\\users\\nt550009\\anaconda3\\lib\\site-packages (from clip==1.0) (2023.6.3)\n",
      "Requirement already satisfied: tqdm in c:\\users\\nt550009\\anaconda3\\lib\\site-packages (from clip==1.0) (4.65.0)\n",
      "Requirement already satisfied: torch in c:\\users\\nt550009\\anaconda3\\lib\\site-packages (from clip==1.0) (2.0.1)\n",
      "Requirement already satisfied: torchvision in c:\\users\\nt550009\\anaconda3\\lib\\site-packages (from clip==1.0) (0.15.2)\n",
      "Requirement already satisfied: wcwidth>=0.2.5 in c:\\users\\nt550009\\anaconda3\\lib\\site-packages (from ftfy->clip==1.0) (0.2.5)\n",
      "Requirement already satisfied: filelock in c:\\users\\nt550009\\anaconda3\\lib\\site-packages (from torch->clip==1.0) (3.9.0)\n",
      "Requirement already satisfied: typing-extensions in c:\\users\\nt550009\\anaconda3\\lib\\site-packages (from torch->clip==1.0) (4.6.3)\n",
      "Requirement already satisfied: sympy in c:\\users\\nt550009\\anaconda3\\lib\\site-packages (from torch->clip==1.0) (1.12)\n",
      "Requirement already satisfied: networkx in c:\\users\\nt550009\\anaconda3\\lib\\site-packages (from torch->clip==1.0) (3.1)\n",
      "Requirement already satisfied: jinja2 in c:\\users\\nt550009\\anaconda3\\lib\\site-packages (from torch->clip==1.0) (3.1.2)\n",
      "Requirement already satisfied: numpy in c:\\users\\nt550009\\anaconda3\\lib\\site-packages (from torchvision->clip==1.0) (1.24.3)\n",
      "Requirement already satisfied: requests in c:\\users\\nt550009\\anaconda3\\lib\\site-packages (from torchvision->clip==1.0) (2.29.0)\n",
      "Requirement already satisfied: pillow!=8.3.*,>=5.3.0 in c:\\users\\nt550009\\anaconda3\\lib\\site-packages (from torchvision->clip==1.0) (9.4.0)\n",
      "Requirement already satisfied: colorama in c:\\users\\nt550009\\anaconda3\\lib\\site-packages (from tqdm->clip==1.0) (0.4.6)\n",
      "Requirement already satisfied: MarkupSafe>=2.0 in c:\\users\\nt550009\\anaconda3\\lib\\site-packages (from jinja2->torch->clip==1.0) (2.1.1)\n",
      "Requirement already satisfied: charset-normalizer<4,>=2 in c:\\users\\nt550009\\anaconda3\\lib\\site-packages (from requests->torchvision->clip==1.0) (2.0.4)\n",
      "Requirement already satisfied: idna<4,>=2.5 in c:\\users\\nt550009\\anaconda3\\lib\\site-packages (from requests->torchvision->clip==1.0) (2.10)\n",
      "Requirement already satisfied: urllib3<1.27,>=1.21.1 in c:\\users\\nt550009\\anaconda3\\lib\\site-packages (from requests->torchvision->clip==1.0) (1.26.16)\n",
      "Requirement already satisfied: certifi>=2017.4.17 in c:\\users\\nt550009\\anaconda3\\lib\\site-packages (from requests->torchvision->clip==1.0) (2023.5.7)\n",
      "Requirement already satisfied: mpmath>=0.19 in c:\\users\\nt550009\\anaconda3\\lib\\site-packages (from sympy->torch->clip==1.0) (1.3.0)\n",
      "Note: you may need to restart the kernel to use updated packages.\n"
     ]
    },
    {
     "name": "stderr",
     "output_type": "stream",
     "text": [
      "  Running command git clone --filter=blob:none --quiet https://github.com/openai/clip.git 'C:\\Users\\NT550009\\AppData\\Local\\Temp\\pip-req-build-u3jiw3s3'\n"
     ]
    }
   ],
   "source": [
    "pip install git+https://github.com/openai/clip.git"
   ]
  },
  {
   "cell_type": "code",
   "execution_count": null,
   "metadata": {},
   "outputs": [],
   "source": []
  },
  {
   "cell_type": "code",
   "execution_count": 15,
   "metadata": {},
   "outputs": [],
   "source": [
    "import torch\n",
    "import torchvision.transforms as T\n",
    "import glob\n",
    "from PIL import Image\n",
    "from annoy import AnnoyIndex\n",
    "from clip import clip\n",
    "import numpy as np"
   ]
  },
  {
   "cell_type": "code",
   "execution_count": null,
   "metadata": {},
   "outputs": [],
   "source": [
    "device = \"cuda\" if torch.cuda.is_available() else \"cpu\"\n",
    "# Torch 라이브러리의 GPU 사용 가능 여부를 확인하고, \n",
    "# 사용 가능한 경우 device 변수를 \"cuda\"로 설정하고, \n",
    "# 그렇지 않은 경우 \"cpu\"로 설정\n",
    "\n",
    "\n",
    "model, _ = clip.load(\"ViT-B/32\", device=device)\n",
    "preprocess = T.Compose([\n",
    "    T.Resize((224, 224)),\n",
    "    T.CenterCrop(224),\n",
    "    T.ToTensor()\n",
    "])\n",
    "# CLIP 모델을 불러옴. ViT-B/32는 CLIP 모델의 구성 중 하나\n",
    "# T.Resize(224)는 이미지의 크기를 224x224로 조정하고, \n",
    "# T.CenterCrop(224)는 이미지를 가운데를 중심으로 224x224 크기로 자름\n",
    "\n",
    "embedding_size = 512  # CLIP 모델의 특징 벡터 크기\n",
    "n_trees = 100  # annoy 인덱스의 트리 개수\n",
    "\n",
    "annoy_index = AnnoyIndex(embedding_size, 'angular')\n",
    "# annoy 패키지의 AnnoyIndex 클래스를 사용해 Annoy 인덱스를 초기화\n",
    "# 특징 벡터의 크기와 거리 측정 방법으로 cosine 을 인수로 전달\n",
    "\n",
    "image_files = glob.glob(r\"C:\\Users\\NT550009\\Desktop\\detail_image_aggregated/*.jpg\")\n",
    "    \n",
    "for image_id, image_file in enumerate(image_files):\n",
    "    image = Image.open(image_file).convert(\"RGB\")\n",
    "    image = preprocess(image).unsqueeze(0).to(device)\n",
    "    \n",
    "    with torch.no_grad():\n",
    "        image_features = model.encode_image(image)\n",
    "        # model 객체를 사용하여 이미지를 인코딩하여 특징 벡터(임베딩)를 추출\n",
    "        # encode_image() 함수는 CLIP 모델에서 이미지에 대한 특징 벡터를 계산하는 역할\n",
    "    image_features = image_features.cpu().numpy().flatten()\n",
    "    # Annoy 인덱스에 추가하기 위해 특징 벡터를 CPU 메모리로 이동시키고, \n",
    "    # NumPy 배열로 변환한 후 1차원으로 평탄화\n",
    "    \n",
    "    annoy_index.add_item(image_id, image_features)\n",
    "\n",
    "annoy_index.build(n_trees)\n",
    "# Annoy 인덱스 구축. \n",
    "# 트리 개수가 많을수록 인덱스의 정확도가 증가하지만, 구\n",
    "# 축에 소요되는 시간도 더 많이 소요\n"
   ]
  },
  {
   "cell_type": "code",
   "execution_count": null,
   "metadata": {},
   "outputs": [],
   "source": [
    "annoy_index.save(\"annoy_index_angular.ann\")"
   ]
  },
  {
   "cell_type": "markdown",
   "metadata": {},
   "source": [
    "# CUDA\n",
    "\"cuda\"는 NVIDIA의 컴퓨팅 플랫폼인 CUDA(Compute Unified Device Architecture)를 가리킵니다. CUDA는 NVIDIA GPU(그래픽 처리 장치)를 사용하여 병렬 컴퓨팅 작업을 수행하기 위한 소프트웨어 및 툴킷입니다.\n",
    "\n",
    "PyTorch와 같은 딥러닝 프레임워크는 CUDA를 사용하여 GPU를 활용한 연산을 수행할 수 있습니다. GPU는 병렬 처리 능력이 뛰어나기 때문에 딥러닝 모델의 학습 및 추론 속도를 향상시킬 수 있습니다. \"cuda\"를 사용하여 딥러닝 모델을 GPU로 이동시키면 GPU를 통해 연산을 수행하므로 빠른 속도와 성능 향상을 기대할 수 있습니다."
   ]
  },
  {
   "cell_type": "markdown",
   "metadata": {},
   "source": [
    "# Query 이미지와 유사도 "
   ]
  },
  {
   "cell_type": "code",
   "execution_count": null,
   "metadata": {},
   "outputs": [],
   "source": [
    "import matplotlib.pyplot as plt\n",
    "import torch\n",
    "from PIL import Image"
   ]
  },
  {
   "cell_type": "code",
   "execution_count": null,
   "metadata": {},
   "outputs": [],
   "source": [
    "# 1. 쿼리 이미지 준비\n",
    "query_image_path = r\"C:\\Users\\NT550009\\Desktop\\recommendation\\cropped_image_2.jpg\"\n",
    "query_image = Image.open(query_image_path).convert(\"RGB\")\n",
    "\n",
    "# 2. 쿼리 이미지 전처리하여 특징 벡터 추출\n",
    "query_preprocess = T.Compose([\n",
    "    T.Resize(224),\n",
    "    T.CenterCrop(224),\n",
    "    T.ToTensor()\n",
    "])\n",
    "query_image = query_preprocess(query_image).unsqueeze(0).to(device)\n",
    "with torch.no_grad():\n",
    "    query_features = model.encode_image(query_image)\n",
    "query_features = query_features.cpu().numpy().flatten()\n",
    "\n",
    "# 3. Annoy 인덱스에서 유사한 사진의 인덱스 검색\n",
    "n_similar_images = 29\n",
    "similar_image_indices = annoy_index.get_nns_by_vector(query_features, n_similar_images)\n",
    "\n",
    "# 4. 유사한 사진들 가져오기\n",
    "similar_images = [Image.open(image_files[index]).convert(\"RGB\") for index in similar_image_indices]\n",
    "\n",
    "# 5. 쿼리 이미지와 유사한 사진들을 plt로 출력\n",
    "fig, axes = plt.subplots(5, 6, figsize=(12, 16))\n",
    "\n",
    "axes[0, 0].imshow(query_image.squeeze().permute(1, 2, 0))\n",
    "axes[0, 0].set_title(\"Query Image\")\n",
    "\n",
    "for i, image in enumerate(similar_images):\n",
    "    row = (i + 1) // 6\n",
    "    col = (i + 1) % 6\n",
    "    axes[row, col].imshow(image)\n",
    "    axes[row, col].set_title(f\"Similar Image {i+1}\")\n",
    "\n",
    "plt.subplots_adjust(wspace=0.3, hspace=0.5)\n",
    "plt.tight_layout()\n",
    "plt.show()"
   ]
  }
 ],
 "metadata": {
  "kernelspec": {
   "display_name": "Python 3 (ipykernel)",
   "language": "python",
   "name": "python3"
  },
  "language_info": {
   "codemirror_mode": {
    "name": "ipython",
    "version": 3
   },
   "file_extension": ".py",
   "mimetype": "text/x-python",
   "name": "python",
   "nbconvert_exporter": "python",
   "pygments_lexer": "ipython3",
   "version": "3.10.11"
  }
 },
 "nbformat": 4,
 "nbformat_minor": 2
}
