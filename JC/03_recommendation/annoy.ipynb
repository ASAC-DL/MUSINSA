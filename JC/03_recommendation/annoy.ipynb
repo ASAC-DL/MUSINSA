{
 "cells": [
  {
   "cell_type": "code",
   "execution_count": 6,
   "metadata": {},
   "outputs": [
    {
     "name": "stdout",
     "output_type": "stream",
     "text": [
      "Collecting tensorflow_hub\n",
      "  Downloading tensorflow_hub-0.13.0-py2.py3-none-any.whl (100 kB)\n",
      "                                              0.0/100.6 kB ? eta -:--:--\n",
      "     ---------------------------------------- 100.6/100.6 kB ? eta 0:00:00\n",
      "Requirement already satisfied: numpy>=1.12.0 in c:\\users\\nt550009\\anaconda3\\lib\\site-packages (from tensorflow_hub) (1.23.5)\n",
      "Requirement already satisfied: protobuf>=3.19.6 in c:\\users\\nt550009\\anaconda3\\lib\\site-packages (from tensorflow_hub) (4.23.2)\n",
      "Installing collected packages: tensorflow_hub\n",
      "Successfully installed tensorflow_hub-0.13.0\n",
      "Note: you may need to restart the kernel to use updated packages.\n"
     ]
    }
   ],
   "source": [
    "pip install tensorflow_hub"
   ]
  },
  {
   "cell_type": "code",
   "execution_count": 13,
   "metadata": {},
   "outputs": [
    {
     "ename": "SyntaxError",
     "evalue": "invalid syntax (3836535182.py, line 1)",
     "output_type": "error",
     "traceback": [
      "\u001b[1;36m  Cell \u001b[1;32mIn[13], line 1\u001b[1;36m\u001b[0m\n\u001b[1;33m    pipwin install annoy\u001b[0m\n\u001b[1;37m           ^\u001b[0m\n\u001b[1;31mSyntaxError\u001b[0m\u001b[1;31m:\u001b[0m invalid syntax\n"
     ]
    }
   ],
   "source": [
    "pipwin install annoy"
   ]
  },
  {
   "cell_type": "code",
   "execution_count": 10,
   "metadata": {},
   "outputs": [
    {
     "ename": "ModuleNotFoundError",
     "evalue": "No module named 'annoy'",
     "output_type": "error",
     "traceback": [
      "\u001b[1;31m---------------------------------------------------------------------------\u001b[0m",
      "\u001b[1;31mModuleNotFoundError\u001b[0m                       Traceback (most recent call last)",
      "Cell \u001b[1;32mIn[10], line 5\u001b[0m\n\u001b[0;32m      3\u001b[0m \u001b[39mimport\u001b[39;00m \u001b[39mtensorflow\u001b[39;00m \u001b[39mas\u001b[39;00m \u001b[39mtf\u001b[39;00m\n\u001b[0;32m      4\u001b[0m \u001b[39mimport\u001b[39;00m \u001b[39mtensorflow_hub\u001b[39;00m \u001b[39mas\u001b[39;00m \u001b[39mhub\u001b[39;00m\n\u001b[1;32m----> 5\u001b[0m \u001b[39mimport\u001b[39;00m \u001b[39mannoy\u001b[39;00m\n",
      "\u001b[1;31mModuleNotFoundError\u001b[0m: No module named 'annoy'"
     ]
    }
   ],
   "source": [
    "import os\n",
    "import glob\n",
    "import tensorflow as tf\n",
    "import tensorflow_hub as hub\n",
    "import annoy"
   ]
  },
  {
   "cell_type": "code",
   "execution_count": null,
   "metadata": {},
   "outputs": [],
   "source": [
    "\n",
    "\n",
    "# AnnoyIndex를 초기화합니다.\n",
    "# 차원 (dimension)은 feature 벡터의 크기에 따라 설정합니다.\n",
    "# 유클리디안 거리(euclidean distance)를 사용하여 유사도를 계산합니다.\n",
    "index = annoy.AnnoyIndex(dimension, 'euclidean')\n",
    "\n",
    "# AnnoyIndex에 feature 벡터를 추가합니다.\n",
    "# feature_vectors는 모든 feature 벡터의 리스트입니다.\n",
    "for i, vector in enumerate(feature_vectors):\n",
    "    index.add_item(i, vector)\n",
    "\n",
    "# AnnoyIndex를 빌드합니다.\n",
    "# n_trees는 AnnoyIndex를 효율적으로 탐색하기 위한 트리의 개수입니다.\n",
    "index.build(n_trees)\n",
    "\n",
    "# query 벡터를 정의합니다.\n",
    "query_vector = [0.5, 0.3, 0.2, ...]  # 예시 query 벡터\n",
    "\n",
    "# 가장 유사한 이웃의 개수를 설정합니다.\n",
    "n_neighbors = 5\n",
    "\n",
    "# query 벡터와 유사한 이웃을 검색합니다.\n",
    "neighbor_indices = index.get_nns_by_vector(query_vector, n_neighbors)\n",
    "\n",
    "# 유사한 이웃의 feature 벡터를 가져옵니다.\n",
    "neighbors = [feature_vectors[i] for i in neighbor_indices]\n",
    "\n",
    "# 결과 출력\n",
    "print(\"Query 벡터와 유사한 이웃:\")\n",
    "for neighbor in neighbors:\n",
    "    print(neighbor)\n"
   ]
  },
  {
   "cell_type": "code",
   "execution_count": null,
   "metadata": {},
   "outputs": [],
   "source": []
  },
  {
   "cell_type": "code",
   "execution_count": null,
   "metadata": {},
   "outputs": [],
   "source": []
  },
  {
   "cell_type": "code",
   "execution_count": null,
   "metadata": {},
   "outputs": [],
   "source": []
  },
  {
   "cell_type": "code",
   "execution_count": null,
   "metadata": {},
   "outputs": [],
   "source": []
  },
  {
   "cell_type": "code",
   "execution_count": null,
   "metadata": {},
   "outputs": [],
   "source": []
  },
  {
   "cell_type": "code",
   "execution_count": null,
   "metadata": {},
   "outputs": [],
   "source": []
  }
 ],
 "metadata": {
  "kernelspec": {
   "display_name": "base",
   "language": "python",
   "name": "python3"
  },
  "language_info": {
   "codemirror_mode": {
    "name": "ipython",
    "version": 3
   },
   "file_extension": ".py",
   "mimetype": "text/x-python",
   "name": "python",
   "nbconvert_exporter": "python",
   "pygments_lexer": "ipython3",
   "version": "3.10.9"
  },
  "orig_nbformat": 4
 },
 "nbformat": 4,
 "nbformat_minor": 2
}
