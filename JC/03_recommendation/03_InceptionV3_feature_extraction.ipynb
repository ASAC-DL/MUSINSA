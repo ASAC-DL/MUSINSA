{
 "cells": [
  {
   "cell_type": "code",
   "execution_count": 1,
   "metadata": {},
   "outputs": [],
   "source": [
    "from tensorflow.keras.preprocessing import image\n",
    "from tensorflow.keras.applications.inception_v3 import InceptionV3, preprocess_input\n",
    "from tensorflow.keras.models import Model\n",
    "from sklearn.metrics.pairwise import cosine_similarity\n",
    "from pathlib import Path\n",
    "from PIL import Image\n",
    "import numpy as np\n",
    "import matplotlib.pyplot as plt\n",
    "import os\n",
    "import cv2\n",
    "from numpy import dot\n",
    "from numpy.linalg import norm"
   ]
  },
  {
   "attachments": {},
   "cell_type": "markdown",
   "metadata": {},
   "source": [
    "# Feature 추출 함수 정의"
   ]
  },
  {
   "cell_type": "code",
   "execution_count": 3,
   "metadata": {},
   "outputs": [],
   "source": [
    "class FeatureExtractor:\n",
    "  def __init__(self):\n",
    "    base_model = InceptionV3(weights='imagenet')\n",
    "    # Customize the model to return features from fully-connected layer\n",
    "    self.model = Model(inputs=base_model.input, outputs=base_model.get_layer('predictions').output) \n",
    "    # InceptionV3 : ['batch_normalization_93', 'activation_85', 'mixed9_1', 'concatenate_1', 'activation_93', 'mixed10', 'avg_pool', 'predictions'].\n",
    "\n",
    "  def extract(self, img):\n",
    "  # Resize the image\n",
    "    img = img.resize((299,299)) \n",
    "    # Convert the image color space\n",
    "    img = img.convert('RGB')\n",
    "    # Reformat the image\n",
    "    x = image.img_to_array(img)\n",
    "    x = np.expand_dims(x, axis=0)\n",
    "    x = preprocess_input(x)\n",
    "    # Extract Features\n",
    "    feature = self.model.predict(x)[0]\n",
    "    return feature  # feature / np.linalg.norm(feature)\n",
    "  "
   ]
  },
  {
   "cell_type": "code",
   "execution_count": null,
   "metadata": {},
   "outputs": [],
   "source": [
    "# input_shape = (ROWS, COLS, 3)\n",
    "# nclass = len(train_gen.class_indices)\n",
    "\n",
    "# base_model = applications.InceptionV3(weights='imagenet', \n",
    "#                                 include_top=False, \n",
    "#                                 input_shape=(ROWS, COLS,3))"
   ]
  },
  {
   "attachments": {},
   "cell_type": "markdown",
   "metadata": {},
   "source": [
    "# Feature 추출\n",
    "쇼핑몰 이미지에서 특징 추출하기\n",
    "\n"
   ]
  },
  {
   "cell_type": "code",
   "execution_count": 4,
   "metadata": {},
   "outputs": [
    {
     "name": "stdout",
     "output_type": "stream",
     "text": [
      "88965\n"
     ]
    }
   ],
   "source": [
    "path = r\"C:\\Users\\NT550009\\Desktop\\detail_image_aggregated\"\n",
    "\n",
    "os.chdir(path)\n",
    "files = os.listdir(path)\n",
    "print(len(files)) # 88965"
   ]
  },
  {
   "cell_type": "code",
   "execution_count": 5,
   "metadata": {},
   "outputs": [],
   "source": [
    "features = []\n",
    "img_paths = []\n",
    "\n",
    "fe = FeatureExtractor()\n",
    "# Save Image Feature Vector with Database Images"
   ]
  },
  {
   "cell_type": "code",
   "execution_count": null,
   "metadata": {},
   "outputs": [],
   "source": [
    "try:\n",
    "  path = r\"C:\\Users\\NT550009\\Desktop\\detail_image_aggregated\"\n",
    "  os.chdir(path)\n",
    "  files = os.listdir(path)\n",
    "  files.reverse()  # 파일 리스트를 역순으로 정렬\n",
    "  \n",
    "  \n",
    "  files = files [28937:]\n",
    "  \n",
    "  img_paths = []  # 이미지 파일 경로를 저장할 리스트\n",
    "  features = []  # 추출한 특징을 저장할 리스트\n",
    "  \n",
    "  for i, file in enumerate(files):\n",
    "      image_path = os.path.join(path, file)  # 파일 속 이미지 파일 경로\n",
    "      img_paths.append(image_path)\n",
    "      \n",
    "      # Extract Features\n",
    "      feature = fe.extract(img=Image.open(image_path))\n",
    "      features.append(feature)\n",
    "      \n",
    "      # Save the Numpy array (.npy) on designated path\n",
    "      feature_filename = os.path.splitext(file)[0] + \".npy\"  # Feature를 저장할 파일 이름\n",
    "      feature_path = r\"C:\\Users\\NT550009\\Desktop\\features/\" + feature_filename  # Feature를 저장할 폴더 경로\n",
    "      np.save(feature_path, feature)\n",
    "  \n",
    "      # Print progress\n",
    "      if (i + 1) % 10000 == 0:\n",
    "        print(f\"{i + 1}개 완료\")\n",
    "      \n",
    "except Exception as e:\n",
    "  print('예외가 발생했습니다.', e)"
   ]
  },
  {
   "cell_type": "code",
   "execution_count": null,
   "metadata": {},
   "outputs": [],
   "source": []
  }
 ],
 "metadata": {
  "kernelspec": {
   "display_name": "base",
   "language": "python",
   "name": "python3"
  },
  "language_info": {
   "codemirror_mode": {
    "name": "ipython",
    "version": 3
   },
   "file_extension": ".py",
   "mimetype": "text/x-python",
   "name": "python",
   "nbconvert_exporter": "python",
   "pygments_lexer": "ipython3",
   "version": "3.10.9"
  },
  "orig_nbformat": 4
 },
 "nbformat": 4,
 "nbformat_minor": 2
}
