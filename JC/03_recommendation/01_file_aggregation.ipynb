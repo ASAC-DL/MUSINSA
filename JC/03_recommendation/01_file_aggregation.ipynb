{
 "cells": [
  {
   "cell_type": "code",
   "execution_count": 1,
   "metadata": {},
   "outputs": [],
   "source": [
    "import os\n",
    "import shutil"
   ]
  },
  {
   "attachments": {},
   "cell_type": "markdown",
   "metadata": {},
   "source": [
    "# os.walrk\n",
    "root : dir과 files가 있는 path\n",
    "dirs : root 아래에 있는 폴더들\n",
    "files : root 아래에 있는 파일들"
   ]
  },
  {
   "cell_type": "code",
   "execution_count": 3,
   "metadata": {},
   "outputs": [
    {
     "name": "stdout",
     "output_type": "stream",
     "text": [
      "모든 jpg 파일이 detail_image_aggregated 폴더에 저장되었습니다.\n"
     ]
    }
   ],
   "source": [
    "source_folder = r\"C:\\Users\\NT550009\\Desktop\\detail_image\"\n",
    "target_folder = r\"C:\\Users\\NT550009\\Desktop\\detail_image_aggregated\"\n",
    "\n",
    "# target_folder가 존재하지 않으면 생성\n",
    "if not os.path.exists(target_folder):\n",
    "    os.makedirs(target_folder)\n",
    "\n",
    "# detail_image 폴더 순회\n",
    "for root, dirs, files in os.walk(source_folder):\n",
    "    for file in files:\n",
    "        if file.endswith(\".jpg\"):\n",
    "            source_path = os.path.join(root, file)\n",
    "            target_path = os.path.join(target_folder, file)\n",
    "            shutil.copy2(source_path, target_path)\n",
    "\n",
    "print(\"모든 jpg 파일이 detail_image_aggregated 폴더에 저장되었습니다.\")"
   ]
  }
 ],
 "metadata": {
  "kernelspec": {
   "display_name": "base",
   "language": "python",
   "name": "python3"
  },
  "language_info": {
   "codemirror_mode": {
    "name": "ipython",
    "version": 3
   },
   "file_extension": ".py",
   "mimetype": "text/x-python",
   "name": "python",
   "nbconvert_exporter": "python",
   "pygments_lexer": "ipython3",
   "version": "3.10.9"
  },
  "orig_nbformat": 4
 },
 "nbformat": 4,
 "nbformat_minor": 2
}
