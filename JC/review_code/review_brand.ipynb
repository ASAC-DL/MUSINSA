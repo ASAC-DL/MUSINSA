{
 "cells": [
  {
   "cell_type": "code",
   "execution_count": 1,
   "metadata": {
    "colab": {
     "base_uri": "https://localhost:8080/",
     "height": 394
    },
    "id": "yGbV-8wISuzH",
    "outputId": "38f7a9b1-ec33-43de-cc0d-d6b5c40616c3"
   },
   "outputs": [],
   "source": [
    "# 불러오기\n",
    "from selenium import webdriver\n",
    "from selenium.webdriver.chrome.options import Options\n",
    "from selenium.webdriver.common.by import By\n",
    "from selenium.webdriver.support.ui import WebDriverWait\n",
    "from selenium.webdriver.support import expected_conditions as EC\n",
    "from selenium.webdriver.common.keys import Keys\n",
    "from selenium.webdriver.chrome.service import Service\n",
    "from selenium.webdriver.common.action_chains import ActionChains\n",
    "import requests\n",
    "import os\n",
    "import json\n",
    "import numpy as np\n",
    "import requests\n",
    "from bs4 import BeautifulSoup\n",
    "import urllib.request\n",
    "import pandas as pd\n",
    "import re\n",
    "import time\n",
    "import datetime"
   ]
  },
  {
   "cell_type": "code",
   "execution_count": 2,
   "metadata": {
    "id": "rZy3LBz5S1rt"
   },
   "outputs": [],
   "source": [
    "# 이미지 다운로드하는 함수\n",
    "def download_image(url, save_path):\n",
    "    response = requests.get(url)\n",
    "    response.raise_for_status()\n",
    "    with open(save_path, 'wb') as file:\n",
    "        file.write(response.content)"
   ]
  },
  {
   "cell_type": "code",
   "execution_count": 4,
   "metadata": {
    "id": "QBKaW6U3S1uW"
   },
   "outputs": [],
   "source": [
    "# page랑 brand 같이 url에 주면 그 페이지 review 크롤링\n",
    "def get_review(url):\n",
    "    # 제품 url 가져오기\n",
    "    # BeautifulSoup\n",
    "    driver.get(url)\n",
    "    soup = BeautifulSoup(driver.page_source,\"html.parser\")\n",
    "    review = []\n",
    "    review_count = len(soup.find_all(\"div\",{\"class\":\"review-list\"}))\n",
    "    for i in range(review_count):\n",
    "        try:\n",
    "            # goods_id\n",
    "            url = soup.find_all(\"div\",{\"class\":\"review-list\"})[i].find_all('a',{\"class\":\"review-goods-information__link\"})[0].get('href')\n",
    "            match = re.search(r'goods/(\\d+)/', url)\n",
    "            if match:\n",
    "                goods_id = match.group(1)\n",
    "\n",
    "            # user_id\n",
    "            user_id = soup.find_all(\"div\",{\"class\":\"review-list\"})[i].find_all(\"p\")[0].text\n",
    "\n",
    "            # date\n",
    "            date = soup.find_all(\"div\",{\"class\":\"review-list\"})[i].find_all(\"p\")[1].text\n",
    "\n",
    "            # Size \n",
    "            size = re.sub(r'\\s+', '', soup.find_all(\"div\",{\"class\":\"review-list\"})[i].find_all(\"span\",{\"class\":\"review-goods-information__option\"})[0].text)\n",
    "\n",
    "            # text\n",
    "            review_text = soup.find_all(\"div\",{\"class\":\"review-list\"})[i].find_all(\"div\",{\"class\":\"review-contents__text\"})[0].text\n",
    "\n",
    "            # url\n",
    "            goods_url = soup.find_all(\"div\",{\"class\":\"review-list\"})[i].find_all('a')[2].get('href')\n",
    "            #brand\n",
    "            goods_brand = soup.find_all(\"div\",{\"class\":\"review-list\"})[i].find_all('a')[3].text\n",
    "            # goods name\n",
    "            goods_name = soup.find_all(\"div\",{\"class\":\"review-list\"})[i].find_all('a')[4].text\n",
    "\n",
    "            # 도움돼요 /스타일 좋아요 / 평가\n",
    "            help_eval = soup.find_all(\"div\",{\"class\":\"review-list\"})[i].find_all('li',{\"class\":\"review-evaluation-button__list\"})[0].find('span').text\n",
    "            style_eval = soup.find_all(\"div\",{\"class\":\"review-list\"})[i].find_all('li',{\"class\":\"review-evaluation-button__list\"})[1].find('span').text\n",
    "            eval_list = [item.get_text(strip=True) for item in soup.find_all(\"div\",{\"class\":\"review-list\"})[i].find_all('li',{\"class\":\"review-evaluation__item\"})]\n",
    "            rating_str = re.findall(r'\\d+', soup.find_all(\"div\",{\"class\":\"review-list\"})[i].find_all('span',{\"class\":\"review-list__rating__active\"})[0].get(\"style\"))[0]\n",
    "            rating = int(rating_str) / 20\n",
    "\n",
    "            # review_no\n",
    "            review_no = soup.find_all(\"div\",{\"class\":\"review-list\"})[i].find_all(\"div\",{\"class\":\"review-contents\"})[0].get(\"data-review-no\")\n",
    "\n",
    "            # 사진 크롤링\n",
    "            img_count = len(soup.find_all(\"div\",{\"class\":\"review-list\"})[i].find_all('img'))\n",
    "\n",
    "            # 사진 카운트\n",
    "            img_num = 0\n",
    "            # 후기 사진만 저장하기\n",
    "            for j in range(img_count):\n",
    "                url = soup.find_all(\"div\",{\"class\":\"review-list\"})[i].find_all('img')[j].get(\"src\")\n",
    "                if \".view\" in url:\n",
    "                    file_url = 'https:' + re.sub(r'\\.view$', '', url)\n",
    "                    # 사진 저장 경로\n",
    "                    save_path = r\"C:\\Users\\NT550009\\Desktop\\image\\\\\"+f\"{goods_id}_{review_no}_{img_num}.jpg\"\n",
    "\n",
    "                    # 사진 다운로드 함수\n",
    "                    download_image(file_url, save_path)\n",
    "                    img_num += 1\n",
    "#                     print(goods_id,review_no,j,img_count,img_num,file_url)\n",
    "\n",
    "            # user 정보 ('여성 ', ' 160cm ', ' 52kg') / 등록되어 있지 않은 경우도 있음\n",
    "            if soup.find_all(\"div\",{\"class\":\"review-list\"})[i].find_all(\"p\",{\"class\":\"review-profile__body_information\"}) != []:\n",
    "                user_sex, user_height, user_weight = soup.find_all(\"div\",{\"class\":\"review-list\"})[i].find_all(\"p\",{\"class\":\"review-profile__body_information\"})[0].text.split(\"·\")\n",
    "                review.append([goods_id,user_id,date,size,review_text,goods_url,goods_brand,goods_name,help_eval,style_eval,eval_list,rating,review_no,user_sex, user_height, user_weight])\n",
    "            else:\n",
    "                review.append([goods_id,user_id,date,size,review_text,goods_url,goods_brand,goods_name,help_eval,style_eval,eval_list,rating,review_no])\n",
    "        except:\n",
    "            pass\n",
    "    return review"
   ]
  },
  {
   "cell_type": "code",
   "execution_count": 5,
   "metadata": {
    "id": "RP41xHKQS4FT"
   },
   "outputs": [],
   "source": [
    "path = r\"C:\\Users\\NT550009\\Desktop\\chromedriver_win32\\chromedriver.exe\" # 크롬드라이버 경로 입력\n",
    "s = Service(path)\n",
    "chrome_options = Options()\n",
    "chrome_options.add_argument('--headless')  # 화면에 브라우저가 나타나지 않도록 headless 모드로 실행합니다.\n",
    "\n",
    "driver = webdriver.Chrome(service=s)\n",
    "\n"
   ]
  },
  {
   "cell_type": "code",
   "execution_count": 6,
   "metadata": {},
   "outputs": [
    {
     "name": "stdout",
     "output_type": "stream",
     "text": [
      "['musinsastandard', 'matinkim', 'adidas', 'suare', 'yale', 'glw', 'dimitriblack', 'lafudgestore', 'toffee', 'travel', 'covernat', 'drawfit', 'satur', 'avandress', 'thenorthface', 'xero', 'spao', 'codegraphy', 'poloralphlauren', 'newbalance', 'calvinkleinjeans', 'nationalgeographic', 'espionage', 'anoblir', 'outstanding', 'trillion', 'umbro', 'lee', 'they', 'marithefrancoisgirbaud', 'thisisneverthat', 'fp142', 'partimento', 'physicaleducationdepartment', 'jemut', 'mlb', 'sculptor', 'nodearchive', 'mardimercredi', 'branded', 'brownbreath', 'perstep', 'not4nerd', 'minav', 'uniformbridge', 'nomanual', 'whatitisnt', 'intempomood', 'soverment', 'visionstreetwear', 'discoveryexpedition', 'niceghostclub', 'anderssonbell', 'xtonz', 'fottners', 'maisonmined', 'takeasy', 'cpgnstudio', 'signature', 'giordano', 'asics', 'coor', 'fila', 'pottery', 'partimentowomen', 'kodak', 'gakkaiunions', 'brenson', 'juanhomme', 'filluminate', 'kiimuir', 'modnine', 'retrieverclub', 'vivastudio', 'jeep', 'thomasmore', 'yeseyesee', 'wholovesart', 'beardedkid', 'nastyfancyclub', 'frizmworks', 'fallett', 'slowacid', 'lemard', 'luvistrue', 'grooverhyme', 'gramicci', 'mmlg', 'ourscope', 'barrel', 'knitted', 'nohant', 'wooalong', 'puma', '8seconds', 'theidentityproject', 'anolorcode', 'hdex', 'acnestudios', 'mahagrid', 'ebbetsfield', 'prenda', 'fatalism', 'snowpeakapparel', 'doffjason', 'anotheroffice', 'bottegaveneta', 'ilcorso', 'romanticcrown', 'citybreeze', 'urbandtype', 'millo', 'blankroom', 'thecoldestmoment', 'minimalproject', 'leire', 'mindbridge', 'thrasher', 'bigunion', 'typeservice', 'nick&nicole', 'aecawhite', 'aeae', 'lmood', 'koleat', 'slowrecordhouse', 'balenciaga', 'insilence', 'theknitcompany', 'ganni', 'champion', 'rest&recreation', 'ronron', 'plac', 'beslow', 'gainsboro', 'ames-worldwide', 'moonsun', 'wvproject', 'kirsh', 'dickies', 'lmc', 'costumeo’clock', 'acover', 'unionblue', 'andar', 'ezkaton', 'archivebold', 'musinsastandardsports', 'badblood', 'oioi', 'fluke', 'graver', 'waikei', 'reebok', '1993studio', 'a.p.c.', 'beentrillgolf', 'orderarchive', 'placestudio', 'grove', 'lacoste', 'sevenselah', 'extraordinary', 'mainbooth', 'camelwork', 'saintlaurent', 'millioncor', 'instantfunk', 'bornchamps', 'glowny', 'nerdy', 'mozmoz', 'decet', 'who.a.u', 'oddstudio', 'viviennewestwood', 'dynafit', 'wkndrs', 'oddpearl', 'lab12', 'timcomix', 'halbkreislayout', 'noirer', 'outdoorproducts', 'urbanstoff', 'clove', 'bittercells', 'supersub', 'underarmour', 'areuban', 'melangemaster', 'twn', 'hyojinoriko', 'martinplan', 'lordjohngrey', 'malbongolf', 'dominant', 'lifework', 'blond9', 'diesel', 'anewgolf', 'cavish', 'ajobyajo', 'hugvone', 'challenger', 'nonfloor', 'dnsr', 'guernseywoollens', 'larryclark', 'moderment', 'fabulousarchive', 'fcmm', 'critic', 'lecoq', 'fabregat', 'kangol', 'bauf', 'alvinclo', 'guess', 'rvd', 'alexandermcqueen', 'goalstudio', 'saintpain', 'maisonmargiela', 'pianer', 'nonblank', 'ghostrepublic', 'afterpray', 'etce', 'jilsander', 'laugher', 'istkunst', 'glimmer', 'pieceworker', 'pandorafit', 'shakawear', 'venhit', 'ruggedhouse', 'mardimercrediactif', '86road', 'goldenbear', 'ninez', 'asifcalie', 'sortie', 'topten', 'lafudgeforwoman', 'openingproject', 'prada', '247series', 'burberry', 'lettercomo', 'acmedelavie', 'gucci', 'magoodgan', 'markgonzales', 'rolarola', 'bravado', 'againstallodds', 'iey', 'chuck', 'diamondlayla', 'awesomestudio', 'umarmung', 'afresh', 'anderssonbellforwomen', 'kenzo', 'piecemaker', 'flareup', 'veryvain', 'triplesens', 'anglan', 'valextra', 'heim', 'tommyhilfiger', 'prospecs', 'eider', 'isabelmarant', 'sundayoffclub', 'ordinaryholiday', 'ogarp', 'noiago', 'midnightmove', 'curetty', 'tngt', 'dunstforwomen', 'ourdayz', 'ellioti', 'printstar', 'bendavis', 'nautica', 'dear,me', 'publicicon', 'royallife', 'sunnei', 'mixxo', 'savage', 'gammagallery', 'grailz', 'lartigent', 'havism', 'ambler', 'youhee', 'knowwave', 'sinoon', 'insilencewomen', 'diadora', 'mongdol', 'gospheres', 'bsrabbit', 'lengagement', 'begin202', 'raive', 'someplace', 'pigment', 'ojos', 'sk8errock', 'ready4next', 'waac', 'mngu', 'addoff', 'namerclothing', 'painorpleasure', 'malden', 'secondmono', 'studionicholson', 'creamsodalab', '999humanity', 'snowpeak', 'hangten', \"levi's\", '51percent', 'beyondcloset', '1989standard', 'aott', 'bensimon', 'tillidie', 'prairie', 'maryjames', 'notyourrose', 'nastykick', 'youthbath', 'arena', 'jhonnywest', 'glack', 'chasecult', 'mizuno', 'massnoun', 'brooksbrothers', 'veteze', 'mmgl', 'inspector', 'saintjames', 'k2', 'doublerl', 'indust', 'fredperry', 'letterfrommoon', 'noun', 'nache', 'waar', 'spyder', 'moncler', 'jipsy', 'hideout', 'slitstudio', 'enzoblues', 'goldengoose', 'ortusvasterds', 'ninetyplus', 'maxmara', 'alyss', 'dossy', 'knd', 'macky', 'ironypornowhiteline', 'doubleflag', 'oceanpacific', 'l.e.e.y', 'artistwear', 'siyazu', 'pinggolf', 'videojockey', 'ulkin', 'ellesse', 'goodhobbyclub', 'roughside', 'shirter', 'nfl', 'roem', 'lohnt', 'oy', 'mellurbane', 'lookast', 'esn', 'sienne', 'dthirtyone', 'oddoneout', 'jacquemus', 'maisonkitsune', 'slickandeasy', 'highschooldisco', 'ohp', 'merrell', 'punchdrunkparties', 'spadeclubseoul', 'claco', 'reflyperky', 'saintsatin', 'ssrl', 'tener', 'badblue', 'pepperseasoning', 'vdr', 'birthdaysuit', 'sserpe', 'flavorism', 'tbj', 'worthwhilemovement', 'lap', 'cofwi', 'thevinylhouse', 'rsc', 'generalidea', 'arcteryx', 'ssy', 'givenchy', 'gramouncepound', 'attentionrow', 'yuppe', 'anotherarchive', 'aqostudiospace', 'wick', 'punchline', 'tommyjeans', 'kolonsport', 'grish', 'gottergallery', 'astralprojection', 'nikegolf', 'oneill', 'frei', 'descente', 'exercise', 'joegush', 'damp', 'placwomen', 'goyowear', 'expiredgirl', 'markm', 'fevertime', 'forfromfather', 'ladyvolume', 'mucent', 'marni', 'columbia', 'millionday', 'acha', 'hugyourskin', 'zeroplanet', 'basichouse', 'helinox', 'etmon', 'overdueflair', 'anouz', 'dazedayz', 'wrangler', 'xxio', 'loeil', 'fairliargolf', 'mosports', 'bibyseob', '2000archives', 'le2', 'soundslife', 'taylormadeapparel', 'blackmoment', 'toez', 'd.xo.h', 'noycommon', 'wideangle', 'reorg', 'badee', 'undyedroom', 'mcnchips', 'dunst', 'lordloar', 'uniapparel', 'ouro', 'apr.8', 'urago', \"that'sit\", 'stillbyhand', 'romanticpirates', 'blur', 'crank', 'asp', 'senti', 'delightpool', 'illigo', 'paulsmith', 'mm6maisonmargiela', 'cpcompany', 'lecoqgolf', 'learve', 'zetes', 'crump', 'rdvz', 'runninghigh', 'current', 'allbirds', 'vastic', 'u&lc', 'nastypalm', 'penfield', 'graverbagandacc', 'thestori', 'adaul', 'malen', 'badbloodloungewear', 'skullpig', 'amoupre', 'deliccent', 'gripswany', 'discusathletic', 'tleyoung', 'roccirocci', 'apartment', 'by.l', 'uncoated247', 'fatalghost', 'aakam', 'cerric', 'thombrowne', 'uniongarments', 'decoroso', 'haint', 'ifyouwant', 'denage', \"s'est\", 'errorsexcepted', 'tones', 'plateau', 'beentrill', 'conichiwabonjour', 'blackmonsterfit', 'elimeno', 'coralique', 'macasite', '5oml', 'week9', 'targetto', 'lores', '25percentage', 'atthemoment', 'rise&below', 'zplish', 'jeleve', 'mmic', 'uglyshadow', 'musclearmed', 'conchwear', 'moaa', 'noirnine', 'diagonal', 'moreout', 'mogrami', 'moo', 'lemaire', 'dysfunct', 'cargobros', 'nocontent', 'socin', 'dwscompany', 'wilson', 'agnel', '320showroom', 'hai', 'mydeepbluememories', 'runds', 'lecyto', 'wigglewigglesports', 'beanpolemen', 'ballute', 'clevelandgolf', 'threetoeighty', 'carouselgolf', 'firstfloor', 'redone', 'anoetic', 'defaultvalue', 'head', 'ashour', 'paperboy', 'zerostreet', 'youthkrew', 'modified', 'inflation', 'claymore', 'vallodenera', 'themaplesyrupfacotry', 'nba', 'tonyhawk', 'sporty&rich', 'laminez', 'nepa', 'backandforth', 'dearstalker', 'fanacult', 'amomento', 'quiksilver', 'pivvee', 'replaycontainer', 'gateless', 'powit', 'blackyak', 'fifa1904', 'greenerycreed', 'boniee', 'front2line', 'majournee', 'luckymarche', '18ober', 'tailorstudio', 'duckdive', 'pumaselect', 'nothingisbetterthanme', 'maxmarathecube', 'gola', 'superinc', 'stco', 'sinkingdeeper', 'milletclassic', 'clovis', 'comoninoz', 'asura', 'fahrenheit', 'fcmmfootball', 'amfeast', 'awesomeus', 'unknownplanet', 'waydn', 'nofficialnoffice', 'saintcrew', 'driftout', 'lieuhomme', 'deviwear', 'artoffield', 'hereu', 'kakaofriendsgolf', 'oursaysour', 'lazybee', 'easynoeasy', 'nocle', 'raam', 'rothco', 'physicalgarments', 'nothingeverything', 'bruman', 'vannworks', 'dyclez', 'marieclaire', 'frankenmono', 'pesto', 'the-abon', 'wmc', 'bcc', 'hellosunrise', 'dilettantisme', 'ardentsoul', 'chloe', 'phos333', 'dgre', 'kijun', 'deutero', 'sperone', 'peaceofmind', 'westgrandboulevard', 'schisminducing', 'lab101', 'zizemuseum', 'nain', 'rawlab', 'nassau', 'vtwo', 'katharsis', 'ami', 'roaringrad', 'parsley', 'stoneisland', 'maxmarastudio', 'playboo', 'notknowing', 'haveoffduty', 'needles', 'standarderror', 'burmula', 'hyperdenim', 'taylormade', 'volcom', 'akaw', 'bellief', 'mgmgstudio', 'anedit', 'saladbowls', 'minimalcode', 'stigma', 'formative', 'ridifi', 'ymclky', 'sandsound', 'tonylawrence', 'minimalworks', 'enor', 'unlimit', 'tradclubvintage', 'yonex', 'anothera', 'theearth', 'manontheboon', 'riooa', 'concepts1one', 'setup-exe', 'huke', 'voiebit', 'tilldawn', 'noirerforwoman', 'beanpolegolf', 'asicsgolf', 'ourhope', 'futurelab', 'wigglewigglefashion', 'tmaker', 'avant-g', 'adhoc', 'smaxmara', 'offwhite', 'stumpynee', 'j.jane', 'rockpsycho', 'rosefrantz', 'dundrop', 'ramolin', 'divinedistance', 'fastle', 'rayfikers', 'grimper', 'granturismo', 'jamiewest', 'badinbad', 'followfather', '377place', 'oxstudios', 'itovseoul', 'dearmydeer', 'clutstudio', 'lowclassic', 'goldpercent', 'neev', 'kappa', \"darling,you'rebad\", 'yuje', 'verno', 'harder', 'navyteam', 'tellmehowufeel', 'heartclub', 'ienkiienki', 'plasticproduct', 'afterhomeparty', 'maloupe', 'nieeh', 'studiotomboy', 'gimmetheyoung', 'starter', 'layerunion', 'thecentaur', 'liberclassy', 'bunkerbuster', 'yjack', 'dangledrop', 'monplisse', 'loewe', 'vanoneatelier', 'byfar', 'philippaker', 'lofi', 'qt8', 'backcountry', 'helement', 'jkuss', 'poloralphlaurengolf', 'garmentlable', 'panicale', 'studiotable', 'montblanc', 'inexcis', 'gbro', 'dischordsound', 'add', 'search410', 'grandeline', 'salondeyohn', 'expressholiday', 'loupsblancs', 'pinkpineapple', 'mattandmel', 'teeaz', 'miumiu', 'marithefrancoisgirbaudmouvement', 'staud', 'columbiauniversity', 'zamst', 'ziosongzio', 'vvv', 'respect', 'toteme', '20thhole', 'millet', 'barbour', 'cord', 'woosuk', 'terawoodhomewear', 'codestandard', 'andneeds', 'denmade', 'bluebrick', 'proudmary', 'wondervisitor', 'panam', 'lagrange', 'misterchild', 'makeitto', 'kauts', 'louiscastel', 'casealot', 'mavrk', 'plasmasphere', 'nordisk', 'hooves', 'owner', 'mcm', 'zensai', 'likethemost', 'betterthanlife', 'buttonseoul', 'blackbrown', 'vabeu', 'madin', 'danton', 'bonidee', 'switch123', 'apieceofcake', 'demarc', 'parakeet', 'oddballsclub', 'planetsurf', 'motovelo', 'lonsdale', 'colecole', 'juliapepe', 'beheavyer', 'evidence', 'universaloverall', 'ayc', 'category9', 'lotsyou', 'tripshion', 'citypopz', 'ufcsport', 'basicelle', 'bensherman', 'lalafox', 'heretic', 'jones', 'wuzustudio', 'dolphinwaveapparel', 'nuakle', 'sundayfruitmarket', 'chillsportsclub', 'strike', 'jacknicklaus', 'therocket', 'clubactivity', 'on&on', 'fcmmtennis', 'billboardstyle', 'aquatica', 'jucyjudy', 'polerstuff', 'giannilupo', 'mondayflow', 'basemoment', 'graceu', 'amade', 'ladinside', 'alphaindustries', 'hardcorehappiness', 'plaknit', 'adidasfitness', 'stagename', 'jillstuartnewyorkmen', 'rockcake', 'itzavibe', \"clo'et\", 'aries', 'whynotus', 'abya', 'taille', 'supener', 'gostreet', 'yeah', 'smokerise', 'nanushka', 'nooneelse', 'softseoul', 'blackdiamond', 'heichblade', 'harbinger', 'lamermamaison', 'ssinandlee', 'etreausommet', 'differentis.ok', 'victorylap', 'coldwarm', 'buriedalive', 'nextdoorlips', 'carrots', 'clet', 'peggynco', 'wstandard', 'jrium', 'pendulum', 'levar', 'smitharmor', 'lingseoul', 'zzerosongzio', 'moonfairy', 'mskn2nd', 'diafvine', 'nakedblood17', 'hazzys', 'palmangels', 'plzproject', 'horlisun', 'versace', 'le', 'significant', 'ezio', 'closed', 'betterthan88', 'controbanal3', 'kandini', '14studio', 'ardentvellona', 'stockholmsurfboardclub', 'shinsletters', 'slowpoke', 'daisysyndrome', 'wilddonkey', 'boundary', 'ctfgallery', 'cornergreen', 'renomaswim', 'gardenexpress', 'noice', 'hide', 'nau', 'enou', 'offgrid', 'sistina', 'proworldcup', 'callmebaby', 'antomars', '38comeoncommon', 'everlast', 'graverforwomen', 'mulawear', 'urbanage', 'rhude', 'debbyupper', 'beirut', 'cattline', 'salondeseoul', 'p/a', 'luckchou', 'tods', 'klor', 'thek-ingarchives', 'litail', 'hotelcerritos', 'teddypop', 'oamc', 'deepsense', 'issuenumber', 'chapchap', 'rollingstudios', 'haley', 'bohemianblue', 'temple', 'carem', '1017alxy9sm', 'waveunion', 'thirdweave', 'anothing', 'slowcoaster', 'ordinarypeople', 'giftoriginal', 'hybernat', 'calvinkleinsport', 'limelike', 'nought', 'momet', 'codigallery', 'wednesdayoasis', 'thegreatest', 'demil', 'cpts', 'vitalsign', 'ihnomuhnit', 'tennisboyclub', 'underarmourgolf', 'coralian', 'sognareby', 'lala', 'dustgray', 'winder', 'other-worldly', 'marcatory', 'j.w.anderson', 'tuin', 'filagolf', 'bubblelime', 'intersection', 'lmr', 'ruddycheeks', 'kookeesee', 'gearx', 'rolandgarros', 'bornhiker', 'ucberkeley', 'themile', 'urbanplayers', 'kancan', 'duran', 'bp2disorder', 'surfea', 'nassau', 'swib', 'choomsun', 'anecdote', 'madmars', 'boss', 'weveryvalue', 'anotheryouth', 'ovdy', 'orcite', 'morejude', 'paperism', 'toinq', 'looploop', 'militora', 'articleven', 'diveepro', 'zijangsa', 'monkeyflower', 'vanishment', 'lolong', 'ease', 'esfai', 'ucla', 'marje', 'gac', 'cellty', 'lossyrow', 'liberekorea', 'cargocontainer', 'rel', 'billabong', 'henrystuart', 'gclip', 'cleverfield', 'spalwart', 'unalloyed', 'campline', 'cnnapparel', 'salvatoreferragamo', 'evener', 'harley-davidson', 'yamahagolf', 'zerogram', 'ohl', 'ffeffstudio', 'legacy', 'inrows', 'notours', '210edit', 'canera', 'radineo', 'unusualnormal', 'moccasom', 'trangia', 'underair', 'philogram', 'clotty', 'jolyn', 'langson', 'floridaticket', 'kumé', 'sumnfit', 'verutum', 'wanggwan', 'sierradesigns', 'jimmychoo', 'nick&nicoleforman', 'capsnstuff', 'unlikelook', 'revereve', 'shield', 'bants', 'originalsports', 'thesparklingwave', 'coucou', 'nonlocal', 'cambridge', 'kulte', 'assay', 'iter', 'outx.o', 'deux', 'skechersgolf', 'trajeyun', 'scarpa', 'supra', 'deuter', 'upperstropgolf', 'havehad', 'betweenaandb', 'officialgarment', 'stockholmsyndrome', 'bemusemansion', 'leyiel', 'brendabrendenseoul', 'creve9', 'pairs', 'danha', 'descentegolf', 'edition', 'clecle', 'rainmaker', 'iamnotahumanbeing', 'huf', 'monsterg', 'rziozia', 'hetherment', 'peaceblossom', 'kinlochbykinlochanderson', \"howlin'\", 'faco', 'polham', 'kybjt', 'lbb', 'meninjungle', 'largo', 'heyste', 'theshirtsstudio', 'trunkproject', 'bluesunflower', 'lyf', 'aciddslide', 'vibrate', 'excontainer', 'daksshirts', 'ruru', 'ridgeline', 'miyhoo', 'techskin', 'rawmantics', 'domars', 'humtto', '47bag', 'instay', 'agentpeek', 'anonimo-a', 'coq', 'sllowgarments', 'cornell', 'maisonmiharayasuhiro', 'pigc', 'ianpoulterdesign', 'kolping', 'among', 'demaden', 'holicnplay', 'aubour', 'abnormalthing', 'majofactory', 'storyoga', 'pairsdeli&grocery', 'outdoorproductsgolf', 'andgolf', 'roundtricot', 'ganisong', 'vogue', 'peopleoftheworld', 'londongrocerymarket', 'crossdressly', 'brick', 'monbirdiegolf', 'trimere', 'a6ove', 'customellow', 'chiquita', 'oioicollection', 'pladi', 'eegeegee', 'downblow', 'bigwavecollective', 'spunky', 'basiclabel', 'underbase', 'ten-c', 'alleyesdown', 'mayol', 'yorf', 'mcnsports', 'sugapoint', 'lenucu', 'fillchic', 'nineweeks', 'conceptcollege', 'otherfits', 'philocaly', 'dtmc', 'spaver', \"tom'sbirthday\", 'grayblvd', 'alou', 'kirtimukha', 'vveloce', 'eastindigo', 'lesonnet', 'vocavaca', 'beboldbecool', 'basiccotton', 'olflame', 'magjay', 'yda', 'comspace1980', 'commonz', 'fakecamper', 'epdevelop', 'setsetset', 'yuppie', 'doffsept', 'monopatin', 'croutine', 'roseapplestudio', 'theantiplatform', 'uniformbridgewomen', 'harvardshoes', 'wildthings', 'mar', 'vlanda', 'untage', 'selfish', 'buckaroo', 'nenetsauthentic', 'heute', 'blackmamba', 'oive', 'apostrophecomma', 'salondekii', 'norseprojects', 'knitly', 'chambros', 'sunlove', 'andz', 'contement', 'anewbros', 'surfaceedition', 'therow', 'unbroken', 'birbante', 'tentationem', 'lenic&mccoy', 'slowstandard', 'forher', 'visitinnewyork', 'wyse', 'nakedsurfclub', 'meenderi', 'nokjok', 'mulika', 'man.g', 'sy2c', \"ky's\", 'dareplay', 'morethanlike', 'maynov1722', 'bonrrow', 'plasticbottleboat', 'iolo', 'celine', 'skoothandmedowns', 'ycw', 'quavino', 'soup', 'caminostreet', 'marronedition', 'gachi.', 'museumofpeace&quiet', 'onrunning', 'kuntach', 'riandco', 'eerst', 'deho', 'graphplatform', 'anytimeloreak', 'life', 'druhgolf', 'ouimaisnon', 'needleline', 'doyouknowmc', 'pacificandco', 'helikontex', 'vestito', 'undertones', 'dewedewe', 'playdebb', 'loaxual', 'dgnak12', 'surflo', 'noir', 'klattermusen', 'manavis7', 'outofbounds', 'roadsignaustralia', 'vasrock', 'ontz', 'annot', 'famille', 'dakslondonstudio', 'shellcorporation', 'chouettesape', 'leauet', 'lunt', 'apexdesign', 'redmansion', 'clriden', 'offroad', 'rabbittisports', 'saltyflower', 'yunse', 'ripcurl', 'hanryang', 'qmile', 'makeatoast', 'fallbreak', 'balansa', 'kan6312', 'renomagolf', 'byallmins', 'arcanefunk', 'kangsister', 'atempo', 'd.prique', 'portmayn', 'adidasbadminton', 'ooh-ahh', 'lokward', 'mais', 'akecii', 'holynumber7', 'crazycarwashcrew', 'descentebaseball', 'qduroy', 'yuse', 'fanyoung', 'fieldworker', 'leftseoul', 'crossdot', 'greenjoy', 'mysterypeopleresearch', 'marogolf', 'laul', 'capitalradiotunes', 'cotedgolf', 'overdoz', 'zblack', 'brianberry', '5hours', 'attentionrowforwomen', 'sangsangpowerstation', 'vegantiger', 'iconography', 'lubbles', 'daro', 'applerind', '13month', 'sweatlable', 'cokie', 'stunt', 'locobasic', 'ncover', 'vleti', 'illedit', 'phiz', 'staffonly', 'sieg', 'bronson', 'maois', 'openingsunshine', 'armorskin', 'persiancatgolf', 'ellonarc', 'valiant', 'buff', 'machineboymachine', 'kappydesign', 'sundayhobbyclub', 'aubeniche', 'mott', 'refined902', 'hiddenbehind', 'kimyoungjoogolf', 'fromarles', 'luoneer', 'gaea', '5pening', 'goodon', 'hideoff', 'pots', '33musement', 'mnw', 'radicar', 'coquet', 'create2mrw', 'lastresort', 'generalworks', 'venecy', 'serojean', 'wanil', 'hyiiⁿ', 'cestmoidew', 'oneillwetsuits', 'mutemute', 'ejnolee', 'nuper', 'bbcearth', 'gocori', 'agingccc', '100%', 'chancechance', 'kanco', 'whiteball', 'eightvolume', 'houseofsunny', 'runblk', 'madcattoscountryclub', 'uglyz', 'cargobrosforwomen', \"dub'bel\", 'distn9ne', 'russellathletic', 'unionbalant', 'mineralstudio', 'frui', 'pluckitty', 'levasse', 'decemberten', 'newbie', 'millowomen', 'damagemnemonic', 'a.riff', 'rrace', 'willicot', 'howear', 'boovoom', 'batheinthesurf', 'andtheother', 'beom', 'neongenesisoddity', 'wallpainter', 'omoojeans', 'googimscompany', 'oneninenineone', 'arc', 'chadprom', 'laurenralphlauren', 'modernable', 'freakishbuilding', 'lang5', 'dr.denim', 'studiokantine', 'bludot', 'heyrelaxcalmdawn', 'mizunogolf', 'wtd', 'niceaeons', 'cielcoco', 'haleineshop', 'tripshop', 'slowboy', 'remantist', 'nexen', 'graverordinary', 'angelobianco', 'wim', 'grafikus', 'noclaim', 'agolde', 'bendls', 'naughtychoco', 'quafe', 'soir', 'palette', 'leforong', 'restore', 'moth', 'osprey', 'rerhee', 'sio', 'prestons', 'fifilapin', 'quasipurity', 'staypeople', 'kirshxromanticcrown', 'argo', 'ofe', 'steparound', 'brooklynworks', 'gloveworks', 'egojin', 'fjallraven', 'nudge', \"s'low\", 'lostinseoul', 'nsr', 'gosen', 'srixon', 'pmco', 'margarinfingers', 'wefoot', 'farfromwhat', 'originalpenguin', 'primement', 'deverrman', 'markmate', 'smokeybear', 'aclise', 'playboygolf', 'market', 'tetonbros', 'hutoan', 'bajoobijoo', 'mimicawe', 'stormlondon', 'emotionplanet', 'ypydesignstudio', 'thegreenlab', 'cenit', 'yuzefi', 'beanpoleladies', 'outdoorresearch', 'kotelo', 'nul', 'karaway', 'modak', 'sacstudio', 'studio&parc', 'sundaeschool', 'nmx', 'mausoleum', 'criscelo', 'valentino', 'roajeu', 'jadenchuck', 'puppysdelight', 'garyluther', 'suenostudio', 'rvca', 'standardcurve', 'hugo', 'noirdevigne', 'myjoh', 'mariagedebien', '201breed', 'graminus', 'tempusstudio', 'sundoesmatter', 'saranagi', 'overr', 'p_label', 'rubrae', 'blackclover', 'bleakbake', 'ariwr', 'seventeenth', 'j&molls', 'battract', 'purpleflowers', 'zanca', 'agathaapparel', 'ancientgreeksandals', 'pieby', 'motivestreet', 'ablapudeti', 'blackblond', 'ssoji', 'todojuntas', 'callious', \"charm's\", 'wnderkammer', 'acud', 'telic', 'raverous', 'mome', 'callaway', 'wscarchive', 'hoodhood', 'metapher', 'petsrockgolflondon', 'aexea', 'onoff', 'geriandfreki', 'boyswillbeboys', 'hotsuit', 'deheve', 'ywz', 'menasoo', 'lovuee', 'crankbasicwear', 'lots', 'checkmillen', 'lad', 'marson', 'dior', 'desired', 'highlanddeliandgrocery', 'sejinist', 'saola', 'augustcloud', 'betterthansurf', 'flor', 'zerogramgear', 'yinyang', 'oesoel', 'betmass', 'gangwonfc', 'oder', 'znother', 'hugobosstennis', 'imirk', 'coal', 'mujel', 'coca-cola', 'nudat', 'halfnine', 'lunacy', 'concent12', 'bruant', 'patchers', 'gozer', 'armyants', 'unisex', 'monuments', 'lyceenne', 'nanacrew', 'playsam', 'vaekcie', 'aac', 'piap', 'danielcremieux', 'injiactive', 'triplex', 'girlskateboards', 'publicfigure', 'swerve', 'jipro', 'apethegreat', 'kye', 'arrange', 'manes', 'onehundredpercentforwoman', 'halfpenni', 'electricgolf', 'fivetoone', 'macarthurapparel', 'seoneedclub', 'nouvellevaguekorea', 'ctwins', 'untoldlabel', 'bobgolf', 'socialgreenclub', 'roxy', 'kinox', 'bradipo', 'piretti', 'leawi', 'streetstandard', 'midsummer', 'flask', 'adio', 'fangoh', 'notable', 'isseymiyake', 'cheatingoyster', 'bsj', 'beebaebeebae', 'ardorobe', 'bummerchores', 'garrix', \"we'dee\", 'playmonster', 'mestari', 'monosewing', 'keypu', 'm.nii', 'nowandtomorrow', 'whyn', '4monster', 'halominium', 'sunflower', 'loveforty', 'oydarchive', 'tarket', 'jvineyard', 'topgirl', 'dimito', 'customus', 'balant', 'eyeye', 'legatogolf', 'iaer', 'gymmaster', 'adlt', 'volvikgolfwear', 'ordinaryone', 'beat&slnc', 'easeoff', 'nupeak', 'oneaim', 'magpierobin', 'garo', 'marineserre', 'ganeshayogaprops', 'denimindigomaster', 'commedesgarconsplay', 'mt.zermatt', 'pular', 'paulcore', 'karactor', 'anoweek', 'deareststudio', 'ramustudio', 'restinpieces', 'escstudio', 'teddyisland', 'acho', 'speedminton', 'kaeiss', 'katin', 'kinds', 'mimimonde', 'seasaltsea', 'doldol', 'cocancl', 'sunnect', 'crnk', 'mezzokunst', 'napapijri', 'flxbl', 'blankbrick', \"theroyal'we\", 'moia', 'frameoff', 'williwawstudio', '726gears', 'pepperpepper', '235laboratory', 'elwk', 'dimplegolf', 'theweatherisawesome', 'sincity', 'swellmob', 'williamsburgnewyorkcity', 'archaic', 'millibar', 'gounmoja', 'diephod', 'pars', 'clawmoney', 'bernhelmet', 'blackend', 'palap', 'umm', 'andersenandersen', 'foli', 'feellowsophie', 'bluff', 'uniflame', 'verseone', 'yalegolf', 'etrececile', '오징어게임', 'ryul+wai', 'neotactical', 'coastwonder', 'heyeddy', 'aaaoe', 'ounderr', 'motifest', 'tottenhamapparel', 'baek-ya', 'publickax', 'bangers', 'matthiola', 'bbb', 'greenich', 'fahren', 'artsdebase', 'inchinchinch', 'postgeneral', 'highhiking', 'greenbutter', 'olivercottons', 'cwearbythegenius', 'hardgear', 'dauspice', 'roti', 'pony', 'endoor', 'floafers', 'thence', 'new:kit', 'nasa', 'etreseoul', 'groundwork', 'jimikoblico', 'vicegolf', 'trmark', 'gvoss', 'mnl', 'junejunespace', 'mmcaxchoeu-ram', 'noeud', '303peoples', 'eastharboursurplus', 'delilium', 'nomorebagelscore', 'vertien', 'ofos', 'citedecite', 'colorheal', 'hokuspokus', '2113studio', 'wmmstudios', 'bmc', 'cer', 'takeform', 'rebrenner', 'rnot', 'vancefly', 'acoldwall', 'fieldmanual', 'nearus', 'royalclubholiday', 'vem.ver', 'heronpreston', 'royalalbartross', 'ccomaque', 'polygram', 'offtunned', 'dayoff', 'matchglobe', 'whodings', 'ryake', 'fuzz', 'lamodechief', 'oxia', 'verutumgolf', '69slam', 'tuo&mio', 'manonte', 'lowcycle', 'saturdayleisureclub', 'fessura', 'chindown', 'lazysunday', 'vestirya', 'betgures', 'propper', 'megaphone', 'sopraclub', 'luckychouette', 'nuparcc', 'evenie', 'ruinous-', 'ungimmick', 'delidi', 'capricieux', 'cetu', 'themuji', 'celuihuru', 'apostrofo', 'nease', 'cornoq', 'ntet', 'deweheartdewe', 'i4p', 'obine', 'fridaynightgolfclub', 'martinegolf', 'suibom', 'onehunnnit', 'piscator', 'fivedeck', 'arethat', 'theloom', 'sweetsoup', 'lelales', 'blow', 'bddn', 'tipicosi', 'april77', 'nuhabit', 'johnsmedley', 'woera', 'esy25', 'dnm', 'bellema', 'whimsymind', 'ayiholiccashmere', 'kyo', 'backyardbuilder', 'aprvd', 'measphera', 'conceptual', 'bluegrain', 'livepro', 'pinblack', 'coperni', 'placement', 'qantodelocos', 'lurefactory', 'mark&lona', 'requel', 'nunussi', 'alanithegrey', 'eaah', 'snowline', 'stonystride', 'fakemama', 'vivaclassy', 'sundayessential', 'editment', 'lalasunnyside', 'munich', 'blackpp', 'a.clown', 'nwr', 'nouve', 'altaigear', 'fiveline', 'custombolt', 'thememorial', 'irusida', 'merens', 'conferolang', 'dod', 'yyiam', 'parajumpers', 'e.parca', 'jinjuse', 'stoneislandshadowproject', 'oamaru', 'arac.9', 'hellvn', 'acontentslab', 'rusteach', 'katrinak', 'ellegolf', 'rocoroco', 'tenblade', 'dolm', 'goodfriend', 'marscollect', 'apethegreat&sport', 'dave&daze', 'steingarten', 'haiya', 'alexnaiden', 'blank', 'ifxy', 'coily', 'ahwe', 'newbalancebaseball', 'oshigh', 'pollution', 'staywithme', 'jojilong', 'biibii', 'speronewomen', 'noav', 'helmutlang', 'billions', 'roo.mu', 'seanlip', 'yomon', 'pigles', 'kasco', 'wardrobe', 'thechildhoodhome', 'movins.r', 'algorithm', 'usualedit', 'alens', 'paletot', 'diiff', 'knog', 'keychron', 'tinablossom', 'bjoue', 'bornslippy', 'sayer', 'ordinaryfits', 'juliy&calla', 'belleffa', 'rubati', 'oursaalty', 'rrrrre', 'stanard', 'nordstudio', 'nuaname', 'f8kechemicalclub', 'bfeep', 'september29', 'balancewood', 'marrt', 'rootmove', 'kime', 'le917homme', 'oakley', 'ona', 'mas', 'lesoleilmatinee', 'dontwakemeup', 'rafsimons', 'jerseyfactory', 'lazyz', 'unifit', 'solljus', 'countrypowder', 'ourwave', 'etdemain', 'royalhawaiiancreations', 'cottonbell', 'tratac', 'footjoygolf', 'findchillin', 'highkeyclub', 'redssocksoo', 'baracuta', 'iise', 'deargarden', 'starsports', 'convoy', 'knizure', 'rus', 'flirt', 'usedfuture', 'a·sof', 'vwvb', 'quietist', 'avocado', 'dearish', 'come', 'ioet', 'nitina', 'anotherleader', 'kellydonahue', 'arrayed', 'snowowl', 'hackesch', 'plimss', 'thestudiok', 'oddsocks', 'grossinventory', 'manduka', 'nervous', 'omerta', 'spris', 'palmtreegolf', 'lude', 'mitte', 'vissla', 'tirogolf', 'wildbros', 'monoflow', 'wearis', 'sigreat', 'prodeshirt', 'thepenny', 'summit', 'bamkeloutdoor', 'momentbym', 'revoirsis', 'muill', 'around.zip', 'greedilous', 'edwardmax', 'hardgearapparel', 'xnazzy', 'wovement', 'hififnk', 'boombasic', 'delaroyal', 'imperialmotion', 'steadiness', 'mcdavid', 'jeanmichelbasquiat', 'herno', 'dennyfield', 'holidayouterwear', 'byginger', 'lirrhoe', 'asiha', 'muscleguard', 'spobank', 'victorinox', 'amukorea', \"mind90's\", 'horngarment', 'youareinvited', 'ecco', 'spitfire', 'kagami.l', 'citystreet', 'aleaf', 'qualityperformance', 'naut', 'brooklynmuseum', 'facenone', 'yyd', 'theraband', 'allsaints', 'sportstribe', 'speedo', \"j'asp\", 'naked&famous', 'crision', 'emcoriginalgarments', 'faberfinger', 'venum', 'junbyjunk', 'aopt', 'garmont', 'whateverwewant', 'snuzy', 'salewa', 'amiri', 'yourlifehere', 'softur', 'desporte', 'flasttic', 'jmbe', 'saii', 'naaieen', 'thegreencup', 'onffidentity', 'celebratewithus', 'groundsswet', 'loeka', 'dreamworld', 'deepindive', 'inthepeople', 'asana', 'wpls', 'scota', 'youneedgarments', 'lueproject', 'tav', 'axelarigato', 'ifelse', 'zemeta', 'ascenods', 'fairliarclub', 'sportler', 'bodycrew', 'aimswing+8', 'denivel', 'tmak', 'easybusy', 'stellabe', 'projectm', 'yugadang', 'dimskin', 'caramba', 'konzert', 'marrot', 'blackhind', 'vitro', 'reactify', 'slowsunday', 'wineez', 'finsdruck', 'doupwn', 'zobha', 'dear,peer', 'kyho', 'rudyprojectcarrier', 'ravelism', 'rexy', 'flagnique', 'dared', 'bearbones', 'modenardor', 'mfsgolfwear', 'melangelab', 'eanjo', 'ersco', 'seafolly', 'maians', 'babletwo', 'owo', 'midnightcircus', 'deepcollective', 'loungeapt', 'arscontact', 'preservedstation', 'sinkerloop', 'eeasee', 'blueover', 'd-clip', 'ulkinlsdcollection', '02armoire', 'fcmmsport', 'insanelunatic', 'corca', 'barigate', 'mooseknuckles', 'hazard4', 'andthenwedance', 'kimyung', 'b.frame', 'uneri', 'nonameneed', 'lbyl', 'marcopolar', 'jdx', \"chance'snoi\", 'mats', 'dexxter', 'lobeati', 'dear.k', 'ihr', \"l'orin\", 'zerohalliburtongolf', 'helenkaminski', 'peregrine', 'calvinkleingolf', 'odddot', 'carverskateboard', 'carriere', 'freddieandmercury', 'posherd', 'doubleeight', 'lxxi', 'ballistics', 'olzen', 'hinge', 'asparagus', 'mediums', 'cdenoirs', 'campside', 'nbnc', 'aflaf', 'wardrobe.nyc', 'bob', 'ascentcity', 'sidas', 'suitable', 'bonnie&blanche', 'wundergeist', 'bluv', 'blackasterb', 'series', 'justhang', 'castelbajac', 'clovergarden', 'playmaker', 'nevermindall', 'kaleg', 'drugproduct', '88limited', 'bigloop', 'potomac', 'ralmode', 'yeo', 's.i.c', 'chapterb', 'opchorrd', 'not', 'onne', 'floppy&disk', 'nastyhabit', 'wehaveatail', 'fcocoromiz', 'nowbau', 'dollarflower', 'somethingacoustic', 'aboutfishing', 'tigerclassic', 'blacrush', 'yourmonthyourday', 'chunky', 'loyaldecide', 'ecorr', 'vlds', 'analogbass', 'vynic', 'l.u.p', 'baezuan', 'loiterloiter', 'instantfunkgolf', 'noventa-k', 'baverse', 'dometic', 'oef', 'mirrorlake', \"codei'm\", 'fitsum', 'aox', 'ignore', 'ifg5', 'nens', 'maui&sons', 'chaosmosbytalli', 'tmoby13month', '337lee', 'aspivot', 'lupl', 'californiaproject', 'dplat', 'weathermonster', 'invisible', 'avamolli', 'martinerose', 'motril', 'pleasemove', 'groundcover', 'interest', 'brooklyndenim', 'rayshiso', 'jackery', 'harvard', 'clairdesage', 'artspeakhouse', 'londontradition', 'eponym', 'nowwhat', 'bowlloon', 'claxclo', 'slowsummer', 'clauslab', 'modesty', 'fit2c', 'lasportiva', 'baust', 'bonmagnum', 'apego', 'anothercolor', 'bermudagrass', 'nakes', 'mudidi', '145office', '27y', 'funnypigmade', 'dvsnstudios', 'pregonero', 'reinamora', 'kamelo', 'jmk', 'fovere', 'likelihood', 'wing', 'dearlife', 'likewize', 'ferradura', 'warmestcielo', 'mea', 'inaddition', 'gloverall', 'rwder', 'themadness', 'nonmainstreamer', 'iamthefuture', 'toatee', 'maison246', 'linestudioone', 'mostwanted', 'portugueseflannel', 'illustrisillusion', 'serviceworks', 'monophobia', 'okidoki', 'sevenfigures', 'fourthk', 'salmonpistols', 'surfnturf', 'hgroundclub', 'panove', 'owura', 'anotherone', 'lugbox', 'tommyhilfigergolf', 'nonformalhaus', 'mishka', 'onsenne', 'neata', '261eui', 'flopop', 'siiiido', 'oldbe', 'pumagolf', 'moneyheist:korea-jointeconomicarea', 'arrt75007', 'fayri', 'commonstandard', 'ttero', 'sleeperhitvideo', 'blackhoody', 'mueve', 'owsa', 'ymc', 'nuvo10', 'truereligion', 'idws', 'prevoir', 'haand', 'langnlu', 'near&dear', 'fm91.02', 'weg', '4win', 'mignonneuf', 'casablanca', 'untouched', 'moreover', 'heartscrew', 'filobisknot', 'projectin', '79by79', 'chrisbrown', 'bucket', 'juoc', 'colorroad', 'stiz', 'intimare', 'minkyluckypowerlab', 'weirdthingsfound', 'karllah', 'siero', 'urbancamper', 'outofhabit', 'eirin', 'renej', 'deeply', 'blindness', 'sayyeon', 'aven', 'shvto', 'bigagnes', 'spalding', 'lemme', 'overgrow', 'gentlemenshardware', 'boylondon', 'soo&ivanna', 'getiton', 'daanhaus', 'paseco', 'jorenzcartiess', 'conatt', 'watchoutbaby', 'marinade', 'johnnycarson', 'obla', 'vividpranky', 'oldewomen', 'heimplanet', 'penekton', 'leedsless', 'vinsonmassif', 'sorry,toomuchlove', 'unistudio', 'ducadelcosma', 'feldsparbrook', 'toiest', 'jeepcamping', 'bridgestone', 'tetu', 'contemporaryaccounts', 'tmrw', 'dpysmnt', 'sthu', 'rapiddominance', 'theslanted', 'sakk', 'bassohomme', 'keek', 'coelonine', 'ahhorn', 'taion', 'cesco', 'thenow', 'seliver', 'codfreak', 'goodden', 'cclover', 'rangt', 'indigomidnight', 'prokennex', 'bronis', 'gind', 'safehouse', 'exhale', 'eighteenh', 'icegardena.508', 'petromax', 'aimsstudios', 'chaenewyork', 'ashbury', 'originalswat', 'maniamass', 'athlaz', 'goodlifeadventureclub', 'bower', 'slowuniverse', 'leseizeme', 'twentyfourt', 'storets', 'ecommae', 'nornot', 'loomloom', 'viinut', 'leadraw', 'voyonn', 'rabdy', 'roheeapparel', 'kalmdown', 'freiknock', 'gothicque', 'enoughisenough', 'volvik', 'vimun', 'twentybucks', 'kompaktrecordbar', 'andros', 'density', 'marfastance', 'aow', 'kuroshio', 'bluejainerclub', 'locate', 'hidcote', 'momeben', 'komok', 'chaelook', 'chailee', 'ruffntuff', 'googongfast', 'denivelmens', 'ffai', 'endover', 'youness', 'webzenfriends', 'coworkers', 'danah', 'leray', 'kelty', 'naomiabloh', 'whysocerealz', 'excurse', 'rekind', 'testament', 'outoftrunk', 'spica', 'letape', 'magis', 'dearyu', 'objectmuseum', 'localsonly', 'postx', 'amidibloom', 'irregular', 'bebof', 'rexspeces', 'shutter', 'leste', 'blancdenoirs', 'bentleygolf', 'compressport', 'emm', 'reiku', 'mitta', 'hellow', 'zelotis', 'akia', 'unnormisdead', 'alol', 'sai', 'peaceofallday', 'humer', 'beioff', 'jandloo', 'zilch', 'objectmatters', 'cahiers', 'plads7', 'condor', 'dimelab', 'soiiu', \"theshow'snotover\", 'muguet', 'ekhon', 'hagahi', 'sweetsweetness', 'jackal', 'narrowmind', 'harleyofscotland', 'gddn', 'ohverdose', '210x297', 'longplayingrecord', 'shiroineko', 'mac9ºc', 'planetremaker', 'keybak', '2flow', 'voken', 'sowerium', 'kkyak', 'futuretro', 'sparklingpiece', 'seanmakescloth', 'deinoc', 'fitboon', 'banax', 'diadem', 'wildworks', 'medinstory', 'sandpiper', 'aggro', 'objectfunk', 'r:lol', 'neupager', 'iro', 'onwear', 'stymest', 'coett', 'thecaring', 'unhate', 'trytotalk', 'sukee', 'nordisk', 'mmam', 'majesty', 'youkshimwon', 'guvo', 'dafinhawaii', 'skogen', 'iltemposelectshop', 'rawnaw', 'allkangdesignstudio', 'simpleretro', 'npnc', 'inchild', 'tammarchive', 'koviss', 'choizaroad', 'offonstudio', 'madehanmut', 'azur', 'bernardmills', 'lebenea', 'framehunt', 'mlbgolf', 'lazylake', 'notig', 'dorky', 'bnhw', 'neimlab', 'p.p.p', 'kinetta', 'thedosi', \"l'issue\", 'ikamper', 'leverdir', 'raummen', 'nataldesign', 'sentencecollector', 'loviq', 'odddeepartment', 'logos', 'ourplace', 'henrik', 'narukang', 'phasewhite', 'soyoon', 'tottenham', 'inprep', 'mckayson', 'privateriot', 'secbyrigoon', 'positivevibe', 'jemkins', 'naisho', 'daub', 'sklz', 'inminimalproduct', 'payntrgolf', 'owoc', 'connecity', 'nomembers', 'defin', 'wanton', 'mullion', 'gooa', 'theinternatiiional', 'ra_on', 'theboondocksaints', 'publish', 'thejabs', 'meowbymina', 'artisticvibe', 'ecoflow', 'kimdoh', 'skamp', 'wooving', 'nerolii', 'plamm', 'peerlessness', 'radred', 'outshell', 'radlimited', 'luten', 'blakoon', 'zenipion', 'stylebymiin', 'utterofficial', 'woozo', 'netsocialclub', 'divingspot', 'highus', 'y/project', 'm082', 'lexis', 'airpunch', 'deluxbomba', 'rebletswm', 'd.cult', 'greatoff', 'agoodday', 'lovlov', 'byeyeshellotom', 'entracte', 'voited', 'mintaretro', 'maxmarasportmax', 'aga', 'ediblet', 'tentmarkdesigns', 'cotta', 'plouf', 'lawnchair', 'blackbulk', 'mauve', 'armorlux', 'lolyloveloly', 'imi', '1754classic', 'kattkatt', 'stuffer', 'youngwalljunction', 'sosu', 'koxa', 'peakproject', 'notyetguys', 'heyhidy', 'tabbludens', 'thyme', 'bludiblu', 'upperstrop', 'im.j', 'uppercollabo', 'nayro', 'biscuitshop', 'phenomenonseeper', 'halfwaynative', 'whatthewear', 'wavewear', 'colorznewyork', 'comsonnot', 'crossavenue', 'oalstudio', 'meltinglow', 'bloodline', 'ara', 'conectx', 'mondiac', 'dozoh', 'ssum', 'refle.t', 'x-sacky', 'gprixx', 'although', 'foceps', 'sagement', 'nonandnon', 'nikebaseball', 'mosmor', 'mastef', 'rockedgarage', 'unother', 'cosmicsociety', 'ventella', 'hellsbells', 'macblacksports', '1159studio', 'champagneblankaesthetic', 'pxg', 'travs', 'birl', 'eberlestock', 'newwaveboys', 'eightpeace', 'honmagolf', 'sakun', 'object', 'zdsports', 'specimenengineering', 'belazy', 'huskynewyorkgolf', 'nota', 'hazzysgolf', 'isokwoohwa', 'soundsbmuet', 'teenytiger', 'intar', 'editplus', 'ventez', 'rociety', 'vente', 'rightroute', 'naddvillage', 'harokin', 'kaykay', 'zakopane', 'blaec', 'greyyang', 'flowomen', 'be.t.ow', 'seokey', 'kanoh', 'oddlanguage', 'takeapicturegalleryshop', 'clangclang', 'kyishoo', 'imei', '8division', 'frankdominic', 'kiluckgi', 'lescolorer', 'becool', 'blndclub', 'fyuchr', 'madn', 'bledition', 'zhouero', 'wheniwasyoung', 'wemewe', 'leafclothing', 'ooparts', 'redoriginal', 'creamslab', 'answeringbird', 'owl91', 'hillsend', 'arpio', 'seanlee', 'hothan', 'nebeleverywear', 'flavors', 'defond', 'j-all', 'tokebi', 'heroine', 'emerson', 'guav', 'sudb', 'itzonapparel', 'bulmeng', 'imozan', 'cottagehouse', 'susumu', 'millin', 'bemighty', 'aboutembro', 'flavour', 'why-rirover', 'yorkminster', 'aordda', 'lyla', 'easyoga', '1990boy', 'ameme', 'xnaduworks', 'narchive', 'sewingboundaries', 'hdcr', 'velua', 'independent', 'courtadvantage', 'epoch', 'blexxme', 'm.cyl', 'nutandbolt', 'atar', 'wavegun', 'nuska', 'yacstudio', 'luvon', 'corotts', 'comfy', 'wavedonuts', 'browend', 'a;ufstand', 'ojakkbridge', 'vivacco', 'orlo', 'hoxton', 'pigmillion', 'megapack', 'justmood', 'siiour', 'johanskeem', 'highplanet', 'lacielo', 'beyd', '24gram', 'chuckle', 'replain', 'lunecave', 'secondreplay', 'amardew', 'standardblue', 'maruman', 'bennevis', 'actg', 'asueto', 'astlay', 'workingbear', 'nightflow', 'inosgolf', 'unmold', 'olimpiazagnoli', 'muer', 'woong', 'clouddancer', 'gooddaymate', 'disendis', 'faithful', 'kelme', 'minu', 'tantan', 'camouflagelab', 'dvergr', 'travel237', 'ozod', 'montsenu', 'donoteat', 'feverminute', 'paranoidhotel', 'lsw', 'kwakhyunjoocollection', 'groundwave', 'a.kok', 'labardot', 'graenn', 'binovular', 'shimano', 'titleist', 'fruitoftheloom', 'bt21golf', 'macular', 'ssqr', 'nextorch', 'wowview', 'visualelements', 'zda', 'slowhuman', 'nappingsnow', 'ojeh', 'wissy', 'muveclothing', 'featherworks', 'protagon', 'weksnoop', 'commongarment', 'jointhedance', 'secondcorner', 'neighbors', 'nadeparis', 'bluebaguette', 'grofs', 'flovenue', 'fille', 'preenj', 'prgr', 'nobis', 'blahbang', 'inys', 'avvesgolf', 'ust', 'yobeat', 'thelogue', 'okensseoul', 'howl', 'subet', 'bubp', 'trenchlondon', 'witinart', 'flap', 'klammern', 'dibs', 'uhlsport', 'pairwel', 'osee', 'archivments', 'achio', 'lockfinger', 'fourseasonland', \"doin'mathang\", 'chamasportslab', 'liquorbrand', 'boulderc', 'tourgolf', 'heybody', 'campgeeks', 'un.p', 'hyperflex', 'gre1scale', 'shiholondon', 'ayaya', 'aider', 'outofcircle', 'juneci', 'musicfreak', 'kokyuu', 'glenmuir', 'sweetoneeighty', 'abus', 'iloil', 'tofit', 'raviin', '33apartment', 'simple', 'bkermin', 'crooklyn', 'ziszas', 'taps', 'partsparts', 'keithssy', 'swnl-siiwnlee', 'groovy', 'hauthomme', '112365', 'acente', 'unhidden', 'lo&low', 'smokmood', 'mulligun', 'hansukne', 'daejoongso', 'gmgs', 'pases', 'creima', 'sewclassic', 'beautifulobject', 'media82', 'overlab', 'walthammer', 'demonstrate', 'veak', 'eous', 'collagevacance', 'enerskin', 'reverseseoul', 'coy', 'dakine', 'bienkimiiye', 'magjaymans', 'briko', 'feuerhand', 'paterson', 'hilleberg', 'seesaw', 'ancientunion', 'segretofindthekey', 'kimoui', 'littletailor', 'dal', 'yujeforwomen', 'kangshanyeon', 'antihero', 'far5', 'shineonyou', 'anni', 'flutterstudio', 'vanquest', 'rudemark', 'junecisportsclub', 'generalfinale', 'weallknowit', 'wonderwalledition', 'broister', 'jamaivu', 'smokinglife', 'antepost', 'rawfitstudio', 'benetton', 'sportful', 'iryuk', 'attraver', 'xiom', 'pla.y_p', 'tryyyple', 'depoupee', 'mooz', 'youngandone', 'differentbutsame', 'trippincell', 'asphaltkint', 'aum89', 'hollysatuns', 'siwy', 'revetir', 'bookonthepark', 'bund', 'musebyrose', 'pitchblack', 'psychopurple', 'mismade', 'navystudio', 'laplage', 'theverything', 'moschino', 'nastyhabitcollection', \"l'homme\", 'parkssy', 'briochin', 'overtia', 'mizu', 'albaoptics', 'challion', 'wicklantern', 'lagren', 'oink.o', 'kym', 'cbc', 'yaibax', 'koveafishing', 'lornajane', 'gfrog', 'lettuce', 'ayu', 'mpg', 'bluemerle', 'cxcgolf', 'smileyoriginals', 'muoh', 'leiavery', 'flyrunway', 'mooneed', 'zippersclub', 'awebornus', 'clomor', 'bombtrack', 'freaksbykimtaehoon', 'out', 'uron', 'sley', 'castelli', 'puffwatt', 'keemoon', 'einen', 'prk', 'cestmavie', 'dendel', 'goldenai', 'mansionhem', 'deard', 'iwanna', 'pinoblanco', 'oddhours', 'xyz', 'gearpack', 'shojiami', 'eria', 'grx', 'nowhere', 'swynes', 'moderate', 'n850', 'olde', 'ser', 'zeroj', 'likerise', 'marsiler', 'luckydice', 'ravide', 'ryujean', 'hyundobae', 'monteeth', 'fossa', 'putdi', 'venteprive', 'grid_seoul', 'basqueteast', 'rallypoint', 'openennd', 'oui-grow', 'conart', 'obsess', 'taewoo', 'uhoh', 'vertx', 'peacemaker', 't-reign', 'glo-toob', 'novelclothes', 'ninebat', 'punazero', 'almightyuniverse', 'offthedoor', 'bellrock', 'sunderland', 'bushnell', 'exped', '902s', 'racleur', 'otterbox', 'leapling', 'savetheduck', 'firstlight', 'croissance', 'damikicraft', 'sleepygom', 'matunas', 'scottburke', 'promenade', 'golfbuddy', 'lavenham', 'bettinardi', 'saintnine', 'milspecmonkey', 'vertini', 'celsius', 'felice', 'loolakoola', 'acorn', 'osoli', 'olight', 'myvelo', 'remplacement', 'ouse', 'forearchive', 'noize', 'superparadise', 'cielo', 'psychiartist', 'toboggan', 'ixnine', 'manuelleetguillaume', 'p.f.candle', 'kicheleehe', 'dirtycandy', 'pinomare', 'roscoff', 'myview101', 'scenery', 'snoopygolf', 'sunshiner', 'theatg', 'magentagolf', 'egoist', '2monkey', 'canadagoose', 'terryit', 'anuk', 'zett', 'rossignol', 'nakedordressed', '4eed', 'krooked', 'luettbiden', 'gsioutdoors', 'purpleblood', 'k-way', 'xzcompany', 'lezyne', 'bello', 'acrid', 'seoulrecordfair', 'lementworks', '1000v', 'slowwave', 'blakspace', 'wannafit', 'ruonine', 'ynotc', 'ouipaname', 'oddmood', 'omgt', 'qdmm', 'plotaplot', 'keekakostudio', 'kozett', 'moreorless', 'indep', 'shoulderpad', 'skitzo', 'yeseasy', 'ichiny', 'lehee', 'peacebesarah', 'ridercommune', 'thesince', 'birdche', 'seokwoonyoon', 'nomatterwhat', 'stvague', 'akro.tea.collection', 'grapix', 'covers', 'mansionair', 'rigoonstudio', 'astrovus', 'bowls', 'langsamer', 'mechanixwear', 'blowind', 'okeyplace', 'laviolette', 'thisis.h', 'whowantstochill', 'childisharchive', 'yungpo', \"ben&jerry's\", 'logoaf', 'chrischristy', 'elliott', 'neufetbleu', 'daydare', 'hds', 'doucan', 'pithsports', 'bycdolhappyfood', 'colmaroriginals', 'comgen', 'saintallan1870', 'aura', 'missilegolf', 'solostove', 'dakslondon', 'winnerspirit', 'hillzo7', '108golf', 'paravion', 'airial', 'rakel', 'airforce', 'inavisports', 'healthybros', 'caddytalk', 'xcore', 'zenvaleur', 'pgatour&lpga', 'studiopaul&company', 'yelto', 'loveactually', 'everlastfitness', 'peterstik', 'log', 'demon', 'f.i.mafia', 'yobs', 'offandoff', 'ebonyday', 'subu', 'keepin', 'spread', 'liveup', 'unitgolf', 'zoneoff', 'archthe', 'waybettersis', 'nubells', 'redtornado', 'golfkicks', 'keicurrent', 'rogervivier', 'sewingbrothers', 'artenostudio', 'jeilim', 'modernstudios', 'nodicoma', 'joseontiger', 'mxreductor', 'michaleross', 'forunder', 'keemu', 'vantvaart', 'driade', 'gvtour', 'alias', 'l&cstendal', 'stoff', 'gigagolf', 'exyaiw', 'saintrobe', 'primavera', 'agern', 'suphere', 'healcreek', 'kanalwear', 'voicecaddie', 'garmin', 'smartwool', 'philippplein', 'proesce', 'tmount', 'bvlgari', 'holeinonebrand', 'hydrapak', 'etro', 'udcy', 'nakedpistachio', 'smas', 'curvo', 'public', 'irunner', 'terkiterki', 'houseof1817', 'around80', 'unic+a', 'gutbaum', 'log', 'joma', 'luckyflow', 'studioseong', 'loic', 'grapvine', 'golfia', 'jack1t', 'arbredereve', 'offthecode', 'jainsong', 'yles', 'silentsociety', 'secondarylegend', 'zihee', 'dsemicolon', 'mumusk', 'zizis', 'hansagolf', 'etre', 'nidalcashmere', 'keepatally', 'ladlab', 'mol', 'noisiamo', 'mare', 'moiaforman', 'kichwork', 'elm', 'niissipress', 'zamble', 'unboundedawe', 'zcode', 'notart', 'lavie', 'mminm', 'vleeda', 'bpbclub', 'lomheaven', 'jinjonjam', 'perenaido', 'haz', 'finne', 'littlebreak', 'icimi', 'hasuo', 'numberplant', 'wiggys', 'rhearockin', 'bellaniz', 'gensdevien', 'meander', 'maxx', 'valore.9', 'viabondevia', 'avan', 'babycentaur', 'seoulien', 'designerinvitation', 'minasong', 'bdb', 'crazyapparel', 'millogrem', 'linefriendsgolf', 'masadeoscura', 'tft', 'triggerpoint', 'arce', 'endymion', 'krackathletic', 'heritorygolf', 'banastin', 'carefree', 'spoiled', 'marksman', 'imperial', 'a-label', 'micks', 'gilhomme', 'coenpe', 'elleactive', 'atwoodrope', 'worldanthemwave', 'buttonplay', 'humangallery', 'ellipsis', '5.11tactical', 'oustaleti', 'basecream', 'bebums', 'dim.ecres', 'avirex', 'replanet', 'daiwa', 'stuff', 'marjihouse', 'loveyourbody', 'andnewstandard', 'ryuyoung', '1011gallery', 'marbete', 'alld', 'stpeaknickr', 'loeilformen', 'athplatform', 'riconine', 'boycentral', 'celitails', 'monodio', 'pelican', 'eziowomen', 'hi-fidapperdiscord', 'championgolf', 'lettredeletoile', 'emergency', 'amour', 'tennisuniversity', 'minimalworksapparel', 'radandfar', \"kang'sstudio\", 'page', 'gongbaek', 'haveless', 'trophyclothing', 'demuse', 'polaris', 'letqstudio', 'birdsofcondor', 'bpb', 'basquiatbrooklyn', 'blank03', 'engineeredgarments', 'saysky', 'rawtoraw', 'saveadog', 'stevenalan', 'arcteryxveilance', 'fromwhere', 'lcdctm', 'royroyseoul', 'freiheit', 'greemy', 'owener', 'lucirzu', 'nominate', 'fendi', 'meverick', 't.iformen', 'campergolf', 'haebyhaekim', 'theballon', 'tierra', 'zimmermann', 'aquaticsocialscene', 'chronyx', 'dekavv', 'fad', 'thesurfboardwarehouse', 'ballet', 'kisyning', 'lautredemin', 'r13', 'theashlynn']\n"
     ]
    }
   ],
   "source": [
    "\n",
    "# 브랜드 리스트 가져오기 (자신이 맡은 브랜드 리스트 형성하기)\n",
    "brand = pd.read_excel(\"brand_name.xlsx\")\n",
    "brand_list = [text.replace(' ', '').lower() for text in list(brand[0])]\n",
    "print(brand_list)"
   ]
  },
  {
   "cell_type": "code",
   "execution_count": 7,
   "metadata": {},
   "outputs": [],
   "source": [
    "brand_list_jc = []\n",
    "for idx, val in enumerate(brand_list):\n",
    "    if idx % 6 ==4:\n",
    "        brand_list_jc.append(val)"
   ]
  },
  {
   "cell_type": "code",
   "execution_count": null,
   "metadata": {},
   "outputs": [],
   "source": []
  },
  {
   "cell_type": "code",
   "execution_count": 8,
   "metadata": {},
   "outputs": [],
   "source": [
    "normalized_list = []\n",
    "\n",
    "for brand in brand_list_jc:\n",
    "    normalized_brand = re.sub(r'[^\\w\\s]', '', brand)\n",
    "    normalized_list.append(normalized_brand)\n"
   ]
  },
  {
   "cell_type": "code",
   "execution_count": 9,
   "metadata": {},
   "outputs": [
    {
     "name": "stdout",
     "output_type": "stream",
     "text": [
      "['yale', 'covernat', 'spao', 'espionage', 'they', 'jemut', 'brownbreath', 'whatitisnt', 'anderssonbell', 'signature', 'partimentowomen', 'kiimuir', 'yeseyesee', 'slowacid', 'ourscope', '8seconds', 'ebbetsfield', 'bottegaveneta', 'blankroom', 'bigunion', 'koleat', 'champion', 'amesworldwide', 'costumeoclock', 'musinsastandardsports', 'reebok', 'grove', 'saintlaurent', 'mozmoz', 'wkndrs', 'outdoorproducts', 'areuban', 'malbongolf', 'cavish', 'guernseywoollens', 'lecoq', 'rvd', 'nonblank', 'istkunst', 'ruggedhouse', 'sortie', 'burberry', 'rolarola', 'awesomestudio', 'flareup', 'tommyhilfiger', 'ogarp', 'ourdayz', 'publicicon', 'grailz', 'sinoon', 'lengagement', 'sk8errock', 'painorpleasure', 'snowpeak', 'aott', 'nastykick', 'mizuno', 'saintjames', 'noun', 'hideout', 'maxmara', 'doubleflag', 'videojockey', 'nfl', 'esn', 'slickandeasy', 'claco', 'pepperseasoning', 'worthwhilemovement', 'arcteryx', 'anotherarchive', 'grish', 'descente', 'expiredgirl', 'marni', 'basichouse', 'wrangler', '2000archives', 'dxoh', 'mcnchips', 'urago', 'asp', 'cpcompany', 'runninghigh', 'penfield', 'skullpig', 'roccirocci', 'cerric', 'denage', 'conichiwabonjour', 'week9', 'zplish', 'moaa', 'lemaire', 'wilson', 'lecyto', 'carouselgolf', 'ashour', 'claymore', 'laminez', 'quiksilver', 'fifa1904', '18ober', 'gola', 'comoninoz', 'unknownplanet', 'deviwear', 'easynoeasy', 'bruman', 'theabon', 'chloe', 'peaceofmind', 'rawlab', 'parsley', 'needles', 'akaw', 'stigma', 'minimalworks', 'theearth', 'voiebit', 'futurelab', 'offwhite', 'ramolin', 'jamiewest', 'dearmydeer', 'darlingyourebad', 'heartclub', 'studiotomboy', 'bunkerbuster', 'byfar', 'jkuss', 'inexcis', 'salondeyohn', 'miumiu', 'vvv', 'cord', 'bluebrick', 'makeitto', 'nordisk', 'betterthanlife', 'bonidee', 'planetsurf', 'evidence', 'citypopz', 'jones', 'strike', 'billboardstyle', 'basemoment', 'plaknit', 'cloet', 'gostreet', 'blackdiamond', 'differentisok', 'clet', 'smitharmor', 'nakedblood17', 'le', 'kandini', 'daisysyndrome', 'gardenexpress', 'sistina', 'graverforwomen', 'cattline', 'thekingarchives', 'issuenumber', 'carem', 'ordinarypeople', 'momet', 'vitalsign', 'lala', 'tuin', 'kookeesee', 'urbanplayers', 'swib', 'anotheryouth', 'looploop', 'vanishment', 'gac', 'billabong', 'campline', 'zerogram', '210edit', 'underair', 'kumé', 'nicknicoleforman', 'originalsports', 'assay', 'scarpa', 'officialgarment', 'pairs', 'iamnotahumanbeing', 'kinlochbykinlochanderson', 'meninjungle', 'lyf', 'ridgeline', '47bag', 'cornell', 'demaden', 'pairsdeligrocery', 'peopleoftheworld', 'a6ove', 'downblow', 'alleyesdown', 'fillchic', 'spaver', 'eastindigo', 'magjay', 'setsetset', 'theantiplatform', 'untage', 'oive', 'sunlove', 'unbroken', 'visitinnewyork', 'mang', 'bonrrow', 'quavino', 'onrunning', 'anytimeloreak', 'pacificandco', 'loaxual', 'outofbounds', 'dakslondonstudio', 'redmansion', 'ripcurl', 'kan6312', 'dprique', 'akecii', 'fanyoung', 'marogolf', 'brianberry', 'lubbles', 'stunt', 'staffonly', 'persiancatgolf', 'sundayhobbyclub', 'fromarles', 'pots', 'lastresort', 'cestmoidew', 'gocori', 'eightvolume', 'dubbel', 'pluckitty', 'ariff', 'andtheother', 'oneninenineone', 'lang5', 'wtd', 'remantist', 'noclaim', 'palette', 'sio', 'argo', 'fjallraven', 'srixon', 'primement', 'market', 'emotionplanet', 'outdoorresearch', 'studioparc', 'roajeu', 'standardcurve', 'graminus', 'rubrae', 'battract', 'motivestreet', 'charms', 'callaway', 'onoff', 'menasoo', 'marson', 'augustcloud', 'betmass', 'coal', 'concent12', 'monuments', 'piap', 'swerve', 'onehundredpercentforwoman', 'nouvellevaguekorea', 'kinox', 'flask', 'bsj', 'playmonster', 'whyn', 'tarket', 'eyeye', 'ordinaryone', 'garo', 'pular', 'restinpieces', 'katin', 'sunnect', 'theroyalwe', '235laboratory', 'williamsburgnewyorkcity', 'clawmoney', 'foli', 'etrececile', 'aaaoe', 'bangers', 'inchinchinch', 'hardgear', 'thence', 'vicegolf', 'noeud', 'ofos', 'bmc', 'acoldwall', 'royalalbartross', 'whodings', '69slam', 'chindown', 'sopraclub', 'delidi', 'nease', 'fridaynightgolfclub', 'arethat', 'tipicosi', 'dnm', 'aprvd', 'coperni', 'nunussi', 'vivaclassy', 'aclown', 'thememorial', 'parajumpers', 'hellvn', 'tenblade', 'steingarten', 'ahwe', 'biibii', 'seanlip', 'movinsr', 'knog', 'ordinaryfits', 'stanard', 'balancewood', 'ona', 'lazyz', 'royalhawaiiancreations', 'redssocksoo', 'knizure', 'quietist', 'anotherleader', 'thestudiok', 'spris', 'wildbros', 'summit', 'greedilous', 'boombasic', 'herno', 'muscleguard', 'youareinvited', 'qualityperformance', 'allsaints', 'emcoriginalgarments', 'whateverwewant', 'desporte', 'onffidentity', 'inthepeople', 'tav', 'sportler', 'stellabe', 'marrot', 'finsdruck', 'ravelism', 'mfsgolfwear', 'babletwo', 'preservedstation', '02armoire', 'hazard4', 'lbyl', 'lobeati', 'peregrine', 'posherd', 'asparagus', 'wardrobenyc', 'wundergeist', 'clovergarden', 'bigloop', 'opchorrd', 'fcocoromiz', 'blacrush', 'analogbass', 'noventak', 'fitsum', 'chaosmosbytalli', 'dplat', 'pleasemove', 'harvard', 'bowlloon', 'lasportiva', 'nakes', 'pregonero', 'wing', 'inaddition', 'toatee', 'serviceworks', 'surfnturf', 'tommyhilfigergolf', 'flopop', 'fayri', 'owsa', 'haand', 'mignonneuf', 'projectin', 'stiz', 'urbancamper', 'sayyeon', 'overgrow', 'paseco', 'obla', 'vinsonmassif', 'jeepcamping', 'sthu', 'coelonine', 'codfreak', 'bronis', 'petromax', 'athlaz', 'storets', 'voyonn', 'enoughisenough', 'density', 'hidcote', 'googongfast', 'coworkers', 'excurse', 'magis', 'irregular', 'bentleygolf', 'zelotis', 'humer', 'plads7', 'ekhon', 'gddn', 'planetremaker', 'futuretro', 'diadem', 'rlol', 'thecaring', 'majesty', 'rawnaw', 'koviss', 'lebenea', 'bnhw', 'ikamper', 'odddeepartment', 'soyoon', 'positivevibe', 'payntrgolf', 'mullion', 'thejabs', 'wooving', 'radlimited', 'woozo', 'lexis', 'agoodday', 'maxmarasportmax', 'lawnchair', '1754classic', 'peakproject', 'upperstrop', 'halfwaynative', 'oalstudio', 'dozoh', 'foceps', 'rockedgarage', '1159studio', 'newwaveboys', 'specimenengineering', 'soundsbmuet', 'vente', 'blaec', 'oddlanguage', 'frankdominic', 'madn', 'ooparts', 'arpio', 'jall', 'itzonapparel', 'bemighty', 'lyla', 'sewingboundaries', 'blexxme', 'yacstudio', 'aufstand', 'megapack', 'beyd', 'amardew', 'astlay', 'muer', 'kelme', 'ozod', 'kwakhyunjoocollection', 'shimano', 'nextorch', 'ojeh', 'commongarment', 'grofs', 'blahbang', 'okensseoul', 'flap', 'archivments', 'liquorbrand', 'hyperflex', 'juneci', 'iloil', 'crooklyn', 'groovy', 'smokmood', 'creima', 'demonstrate', 'coy', 'paterson', 'littletailor', 'shineonyou', 'generalfinale', 'antepost', 'xiom', 'differentbutsame', 'revetir', 'mismade', 'lhomme', 'challion', 'yaibax', 'mpg', 'flyrunway', 'freaksbykimtaehoon', 'keemoon', 'mansionhem', 'gearpack', 'moderate', 'marsiler', 'fossa', 'openennd', 'vertx', 'punazero', 'exped', 'firstlight', 'promenade', 'vertini', 'olight', 'superparadise', 'pfcandle', 'scenery', '2monkey', 'nakedordressed', 'kway', 'lementworks', 'ynotc', 'keekakostudio', 'yeseasy', 'birdche', 'covers', 'mechanixwear', 'childisharchive', 'neufetbleu', 'colmaroriginals', 'dakslondon', 'rakel', 'zenvaleur', 'peterstik', 'ebonyday', 'zoneoff', 'keicurrent', 'nodicoma', 'vantvaart', 'gigagolf', 'healcreek', 'proesce', 'udcy', 'terkiterki', 'joma', 'jack1t', 'secondarylegend', 'etre', 'mare', 'unboundedawe', 'bpbclub', 'littlebreak', 'bellaniz', 'avan', 'crazyapparel', 'arce', 'spoiled', 'coenpe', 'ellipsis', 'avirex', 'andnewstandard', 'loeilformen', 'pelican', 'amour', 'gongbaek', 'birdsofcondor', 'rawtoraw', 'royroyseoul', 'fendi', 'tierra', 'thesurfboardwarehouse']\n"
     ]
    }
   ],
   "source": [
    "print(normalized_list)"
   ]
  },
  {
   "attachments": {},
   "cell_type": "markdown",
   "metadata": {},
   "source": [
    "# 중간 연결 끊김 및 브랜드별 페이지 수 10개로 조정\n",
    "마지막 : espionage의 546 page 중에 154 page까지 완료 / 4094"
   ]
  },
  {
   "cell_type": "code",
   "execution_count": 10,
   "metadata": {},
   "outputs": [],
   "source": [
    "normalized_list = normalized_list[4:]"
   ]
  },
  {
   "cell_type": "code",
   "execution_count": 11,
   "metadata": {
    "scrolled": true
   },
   "outputs": [
    {
     "name": "stdout",
     "output_type": "stream",
     "text": [
      "they의 10 page 중에 1 page까지 완료 / 80001\n",
      "they의 10 page 중에 2 page까지 완료 / 80002\n",
      "they의 10 page 중에 3 page까지 완료 / 80003\n",
      "they의 10 page 중에 4 page까지 완료 / 80004\n",
      "they의 10 page 중에 5 page까지 완료 / 80005\n",
      "they의 10 page 중에 6 page까지 완료 / 80006\n",
      "they의 10 page 중에 7 page까지 완료 / 80007\n",
      "they의 10 page 중에 8 page까지 완료 / 80008\n",
      "they의 10 page 중에 9 page까지 완료 / 80009\n",
      "they의 10 page 중에 10 page까지 완료 / 80010\n",
      "jemut의 10 page 중에 1 page까지 완료 / 80011\n",
      "jemut의 10 page 중에 2 page까지 완료 / 80012\n",
      "jemut의 10 page 중에 3 page까지 완료 / 80013\n",
      "jemut의 10 page 중에 4 page까지 완료 / 80014\n",
      "jemut의 10 page 중에 5 page까지 완료 / 80015\n",
      "jemut의 10 page 중에 6 page까지 완료 / 80016\n",
      "jemut의 10 page 중에 7 page까지 완료 / 80017\n",
      "jemut의 10 page 중에 8 page까지 완료 / 80018\n",
      "jemut의 10 page 중에 9 page까지 완료 / 80019\n",
      "jemut의 10 page 중에 10 page까지 완료 / 80020\n",
      "brownbreath의 10 page 중에 1 page까지 완료 / 80021\n",
      "brownbreath의 10 page 중에 2 page까지 완료 / 80022\n",
      "brownbreath의 10 page 중에 3 page까지 완료 / 80023\n",
      "brownbreath의 10 page 중에 4 page까지 완료 / 80024\n",
      "brownbreath의 10 page 중에 5 page까지 완료 / 80025\n",
      "brownbreath의 10 page 중에 6 page까지 완료 / 80026\n",
      "brownbreath의 10 page 중에 7 page까지 완료 / 80027\n",
      "brownbreath의 10 page 중에 8 page까지 완료 / 80028\n",
      "brownbreath의 10 page 중에 9 page까지 완료 / 80029\n",
      "brownbreath의 10 page 중에 10 page까지 완료 / 80030\n",
      "whatitisnt의 10 page 중에 1 page까지 완료 / 80031\n",
      "whatitisnt의 10 page 중에 2 page까지 완료 / 80032\n",
      "whatitisnt의 10 page 중에 3 page까지 완료 / 80033\n",
      "whatitisnt의 10 page 중에 4 page까지 완료 / 80034\n",
      "whatitisnt의 10 page 중에 5 page까지 완료 / 80035\n",
      "whatitisnt의 10 page 중에 6 page까지 완료 / 80036\n",
      "whatitisnt의 10 page 중에 7 page까지 완료 / 80037\n",
      "whatitisnt의 10 page 중에 8 page까지 완료 / 80038\n",
      "whatitisnt의 10 page 중에 9 page까지 완료 / 80039\n",
      "whatitisnt의 10 page 중에 10 page까지 완료 / 80040\n",
      "anderssonbell의 10 page 중에 1 page까지 완료 / 80041\n",
      "anderssonbell의 10 page 중에 2 page까지 완료 / 80042\n",
      "anderssonbell의 10 page 중에 3 page까지 완료 / 80043\n",
      "anderssonbell의 10 page 중에 4 page까지 완료 / 80044\n",
      "anderssonbell의 10 page 중에 5 page까지 완료 / 80045\n",
      "anderssonbell의 10 page 중에 6 page까지 완료 / 80046\n",
      "anderssonbell의 10 page 중에 7 page까지 완료 / 80047\n",
      "anderssonbell의 10 page 중에 8 page까지 완료 / 80048\n",
      "anderssonbell의 10 page 중에 9 page까지 완료 / 80049\n",
      "anderssonbell의 10 page 중에 10 page까지 완료 / 80050\n",
      "signature의 10 page 중에 1 page까지 완료 / 80051\n",
      "signature의 10 page 중에 2 page까지 완료 / 80052\n",
      "signature의 10 page 중에 3 page까지 완료 / 80053\n",
      "signature의 10 page 중에 4 page까지 완료 / 80054\n",
      "signature의 10 page 중에 5 page까지 완료 / 80055\n",
      "signature의 10 page 중에 6 page까지 완료 / 80056\n",
      "signature의 10 page 중에 7 page까지 완료 / 80057\n",
      "signature의 10 page 중에 8 page까지 완료 / 80058\n",
      "signature의 10 page 중에 9 page까지 완료 / 80059\n",
      "signature의 10 page 중에 10 page까지 완료 / 80060\n",
      "partimentowomen의 10 page 중에 1 page까지 완료 / 80061\n",
      "partimentowomen의 10 page 중에 2 page까지 완료 / 80062\n",
      "partimentowomen의 10 page 중에 3 page까지 완료 / 80063\n",
      "partimentowomen의 10 page 중에 4 page까지 완료 / 80064\n",
      "partimentowomen의 10 page 중에 5 page까지 완료 / 80065\n",
      "partimentowomen의 10 page 중에 6 page까지 완료 / 80066\n",
      "partimentowomen의 10 page 중에 7 page까지 완료 / 80067\n",
      "partimentowomen의 10 page 중에 8 page까지 완료 / 80068\n",
      "partimentowomen의 10 page 중에 9 page까지 완료 / 80069\n",
      "partimentowomen의 10 page 중에 10 page까지 완료 / 80070\n",
      "kiimuir의 10 page 중에 1 page까지 완료 / 80071\n",
      "kiimuir의 10 page 중에 2 page까지 완료 / 80072\n",
      "kiimuir의 10 page 중에 3 page까지 완료 / 80073\n",
      "kiimuir의 10 page 중에 4 page까지 완료 / 80074\n",
      "kiimuir의 10 page 중에 5 page까지 완료 / 80075\n",
      "kiimuir의 10 page 중에 6 page까지 완료 / 80076\n",
      "kiimuir의 10 page 중에 7 page까지 완료 / 80077\n",
      "kiimuir의 10 page 중에 8 page까지 완료 / 80078\n",
      "kiimuir의 10 page 중에 9 page까지 완료 / 80079\n",
      "kiimuir의 10 page 중에 10 page까지 완료 / 80080\n",
      "yeseyesee의 10 page 중에 1 page까지 완료 / 80081\n",
      "yeseyesee의 10 page 중에 2 page까지 완료 / 80082\n",
      "yeseyesee의 10 page 중에 3 page까지 완료 / 80083\n",
      "yeseyesee의 10 page 중에 4 page까지 완료 / 80084\n",
      "yeseyesee의 10 page 중에 5 page까지 완료 / 80085\n",
      "yeseyesee의 10 page 중에 6 page까지 완료 / 80086\n",
      "yeseyesee의 10 page 중에 7 page까지 완료 / 80087\n",
      "yeseyesee의 10 page 중에 8 page까지 완료 / 80088\n",
      "yeseyesee의 10 page 중에 9 page까지 완료 / 80089\n",
      "yeseyesee의 10 page 중에 10 page까지 완료 / 80090\n",
      "slowacid의 10 page 중에 1 page까지 완료 / 80091\n",
      "slowacid의 10 page 중에 2 page까지 완료 / 80092\n",
      "slowacid의 10 page 중에 3 page까지 완료 / 80093\n",
      "slowacid의 10 page 중에 4 page까지 완료 / 80094\n",
      "slowacid의 10 page 중에 5 page까지 완료 / 80095\n",
      "slowacid의 10 page 중에 6 page까지 완료 / 80096\n",
      "slowacid의 10 page 중에 7 page까지 완료 / 80097\n"
     ]
    }
   ],
   "source": [
    "# 전제 review 저장\n",
    "review = []\n",
    "count = 80000\n",
    "\n",
    "for brand in normalized_list:\n",
    "    url = f'https://www.musinsa.com/goods/reviews/lists?type=style&searchYear=2022&searchMonth=&searchDay=&maxRt=2022&minRt=2009&brand={brand}&page=1&sort=new'\n",
    "    driver.get(url)\n",
    "    soup = BeautifulSoup(driver.page_source,\"html.parser\")\n",
    "    tot_page = 10\n",
    "    for page in range(1,tot_page+1):\n",
    "        url = f'https://www.musinsa.com/goods/reviews/lists?type=style&searchYear=2022&searchMonth=&searchDay=&maxRt=2022&minRt=2009&brand={brand}&page={page}&sort=comment_new_desc'\n",
    "        review = review + get_review(url)\n",
    "        count += 1\n",
    "        print(\"{0}의 {1} page 중에 {2} page까지 완료 / {3}\".format(brand,tot_page,page,count))\n",
    "        if count % 100 == 0:\n",
    "            review_df = pd.DataFrame(review,columns = [\"goods_id\",\"user_id\",\"date\",\"size\",\"text\",\"goods_url\",\"goods_brand\",\"goods_name\",\"help_eval\",\"style_eval\",\"eval_list\",\"rating\",\"review_no\",\"user_sex\", \"user_height\", \"user_weight\"])\n",
    "            review_df.to_csv(f\"review/review_{count*20}.csv\")\n",
    "            print(f\"review 저장완료_{count*20}\")"
   ]
  }
 ],
 "metadata": {
  "colab": {
   "provenance": []
  },
  "kernelspec": {
   "display_name": "Python 3 (ipykernel)",
   "language": "python",
   "name": "python3"
  },
  "language_info": {
   "codemirror_mode": {
    "name": "ipython",
    "version": 3
   },
   "file_extension": ".py",
   "mimetype": "text/x-python",
   "name": "python",
   "nbconvert_exporter": "python",
   "pygments_lexer": "ipython3",
   "version": "3.10.9"
  }
 },
 "nbformat": 4,
 "nbformat_minor": 1
}
