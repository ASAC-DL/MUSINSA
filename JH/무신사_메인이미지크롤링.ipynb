{
 "cells": [
  {
   "cell_type": "code",
   "execution_count": 2,
   "id": "8f366345",
   "metadata": {},
   "outputs": [],
   "source": [
    "# 불러오기\n",
    "from selenium import webdriver\n",
    "from selenium.webdriver.chrome.options import Options\n",
    "from selenium.webdriver.common.by import By\n",
    "from selenium.webdriver.support.ui import WebDriverWait\n",
    "from selenium.webdriver.support import expected_conditions as EC\n",
    "from selenium.webdriver.common.keys import Keys\n",
    "from selenium.webdriver.chrome.service import Service\n",
    "from selenium.webdriver.common.action_chains import ActionChains\n",
    "import requests\n",
    "import os\n",
    "import json\n",
    "import numpy as np\n",
    "import requests\n",
    "from bs4 import BeautifulSoup\n",
    "import urllib.request\n",
    "import pandas as pd\n",
    "import re\n",
    "import time\n",
    "import datetime"
   ]
  },
  {
   "cell_type": "code",
   "execution_count": 3,
   "id": "51c09f7c",
   "metadata": {},
   "outputs": [],
   "source": [
    "# 이미지 다운로드하는 함수\n",
    "def download_image(url, save_path):\n",
    "    response = requests.get(url)\n",
    "    response.raise_for_status()\n",
    "    with open(save_path, 'wb') as file:\n",
    "        file.write(response.content)"
   ]
  },
  {
   "cell_type": "code",
   "execution_count": 8,
   "id": "74b93389",
   "metadata": {},
   "outputs": [
    {
     "data": {
      "text/html": [
       "<div>\n",
       "<style scoped>\n",
       "    .dataframe tbody tr th:only-of-type {\n",
       "        vertical-align: middle;\n",
       "    }\n",
       "\n",
       "    .dataframe tbody tr th {\n",
       "        vertical-align: top;\n",
       "    }\n",
       "\n",
       "    .dataframe thead th {\n",
       "        text-align: right;\n",
       "    }\n",
       "</style>\n",
       "<table border=\"1\" class=\"dataframe\">\n",
       "  <thead>\n",
       "    <tr style=\"text-align: right;\">\n",
       "      <th></th>\n",
       "      <th>Category</th>\n",
       "      <th>Item_code</th>\n",
       "    </tr>\n",
       "  </thead>\n",
       "  <tbody>\n",
       "    <tr>\n",
       "      <th>0</th>\n",
       "      <td>반소매 티셔츠</td>\n",
       "      <td>996177</td>\n",
       "    </tr>\n",
       "    <tr>\n",
       "      <th>1</th>\n",
       "      <td>반소매 티셔츠</td>\n",
       "      <td>1382658</td>\n",
       "    </tr>\n",
       "    <tr>\n",
       "      <th>2</th>\n",
       "      <td>반소매 티셔츠</td>\n",
       "      <td>996178</td>\n",
       "    </tr>\n",
       "    <tr>\n",
       "      <th>3</th>\n",
       "      <td>반소매 티셔츠</td>\n",
       "      <td>1848166</td>\n",
       "    </tr>\n",
       "    <tr>\n",
       "      <th>4</th>\n",
       "      <td>반소매 티셔츠</td>\n",
       "      <td>2086653</td>\n",
       "    </tr>\n",
       "    <tr>\n",
       "      <th>...</th>\n",
       "      <td>...</td>\n",
       "      <td>...</td>\n",
       "    </tr>\n",
       "    <tr>\n",
       "      <th>17995</th>\n",
       "      <td>미니원피스</td>\n",
       "      <td>1167612</td>\n",
       "    </tr>\n",
       "    <tr>\n",
       "      <th>17996</th>\n",
       "      <td>미니원피스</td>\n",
       "      <td>1154830</td>\n",
       "    </tr>\n",
       "    <tr>\n",
       "      <th>17997</th>\n",
       "      <td>미니원피스</td>\n",
       "      <td>1135804</td>\n",
       "    </tr>\n",
       "    <tr>\n",
       "      <th>17998</th>\n",
       "      <td>미니원피스</td>\n",
       "      <td>865557</td>\n",
       "    </tr>\n",
       "    <tr>\n",
       "      <th>17999</th>\n",
       "      <td>미니원피스</td>\n",
       "      <td>797165</td>\n",
       "    </tr>\n",
       "  </tbody>\n",
       "</table>\n",
       "<p>18000 rows × 2 columns</p>\n",
       "</div>"
      ],
      "text/plain": [
       "      Category  Item_code\n",
       "0      반소매 티셔츠     996177\n",
       "1      반소매 티셔츠    1382658\n",
       "2      반소매 티셔츠     996178\n",
       "3      반소매 티셔츠    1848166\n",
       "4      반소매 티셔츠    2086653\n",
       "...        ...        ...\n",
       "17995    미니원피스    1167612\n",
       "17996    미니원피스    1154830\n",
       "17997    미니원피스    1135804\n",
       "17998    미니원피스     865557\n",
       "17999    미니원피스     797165\n",
       "\n",
       "[18000 rows x 2 columns]"
      ]
     },
     "execution_count": 8,
     "metadata": {},
     "output_type": "execute_result"
    }
   ],
   "source": [
    "category_list = pd.read_excel('상품번호.xlsx',index_col=False)\n",
    "category_list"
   ]
  },
  {
   "cell_type": "code",
   "execution_count": null,
   "id": "d4accd67",
   "metadata": {},
   "outputs": [],
   "source": [
    "def get_main_img(goods_id):\n",
    "    # 사진 개수 카운트\n",
    "    k= 0\n",
    "    # 제품 url 가져오기\n",
    "    url = f\"https://www.musinsa.com/app/goods/{goods_id}\"\n",
    "    # BeautifulSoup\n",
    "    driver.get(url)\n",
    "    soup = BeautifulSoup(driver.page_source,\"html.parser\")\n",
    "    try:\n",
    "        # 메인 사진 개수 카운팅\n",
    "        count = len(soup.find_all(\"ul\",{\"class\":\"product_thumb\"})[0].find_all(\"img\"))\n",
    "\n",
    "        # 제품 폴더 만들기\n",
    "        os.mkdir(str(goods_id))\n",
    "\n",
    "        # 이미지 가져오기\n",
    "        for i in range(count):\n",
    "            # 사진별 이름 (제품ID_사진수카운팅)\n",
    "            temp = str(goods_id) + \"_\" + str(k)\n",
    "\n",
    "            # 썸네일 이미지 url get\n",
    "            url1 = soup.find_all(\"ul\",{\"class\":\"product_thumb\"})[0].find_all(\"img\")[i].get(\"src\")\n",
    "\n",
    "            # 썸네일 이미지 _60 -> _500으로 바꾸는 정규식\n",
    "            url2 = re.sub(r'(?<=\\d{14}_)\\d+(?=\\.jpg)', '500', url1)\n",
    "            file_url = \"https:\" + url2\n",
    "\n",
    "            # 사진 저장 경로\n",
    "            save_path = f\"{goods_id}\\/{temp}(jpg).jpg\"\n",
    "\n",
    "            # 사진 다운로드 함수\n",
    "            download_image(file_url, save_path)\n",
    "\n",
    "            # 개수 카운팅\n",
    "            k+=1\n",
    "            suscess_list = [goods_id,1]\n",
    "    except:\n",
    "        fail_list = [goods_id,0]\n",
    "        return fail_list\n",
    "    return success_list"
   ]
  },
  {
   "cell_type": "code",
   "execution_count": 84,
   "id": "f24563ff",
   "metadata": {},
   "outputs": [
    {
     "ename": "FileExistsError",
     "evalue": "[WinError 183] 파일이 이미 있으므로 만들 수 없습니다: '1848166'",
     "output_type": "error",
     "traceback": [
      "\u001b[1;31m---------------------------------------------------------------------------\u001b[0m",
      "\u001b[1;31mFileExistsError\u001b[0m                           Traceback (most recent call last)",
      "Cell \u001b[1;32mIn[84], line 4\u001b[0m\n\u001b[0;32m      2\u001b[0m done_list \u001b[38;5;241m=\u001b[39m []\n\u001b[0;32m      3\u001b[0m \u001b[38;5;28;01mfor\u001b[39;00m goods_id \u001b[38;5;129;01min\u001b[39;00m goods_ids:\n\u001b[1;32m----> 4\u001b[0m     done_id \u001b[38;5;241m=\u001b[39m \u001b[43mget_main_img\u001b[49m\u001b[43m(\u001b[49m\u001b[43mgoods_id\u001b[49m\u001b[43m)\u001b[49m\n\u001b[0;32m      5\u001b[0m     done_list\u001b[38;5;241m.\u001b[39mappend(done_id)\n",
      "Cell \u001b[1;32mIn[83], line 9\u001b[0m, in \u001b[0;36mget_main_img\u001b[1;34m(goods_id)\u001b[0m\n\u001b[0;32m      6\u001b[0m soup \u001b[38;5;241m=\u001b[39m BeautifulSoup(driver\u001b[38;5;241m.\u001b[39mpage_source,\u001b[38;5;124m\"\u001b[39m\u001b[38;5;124mhtml.parser\u001b[39m\u001b[38;5;124m\"\u001b[39m)\n\u001b[0;32m      8\u001b[0m count \u001b[38;5;241m=\u001b[39m \u001b[38;5;28mlen\u001b[39m(soup\u001b[38;5;241m.\u001b[39mfind_all(\u001b[38;5;124m\"\u001b[39m\u001b[38;5;124mul\u001b[39m\u001b[38;5;124m\"\u001b[39m,{\u001b[38;5;124m\"\u001b[39m\u001b[38;5;124mclass\u001b[39m\u001b[38;5;124m\"\u001b[39m:\u001b[38;5;124m\"\u001b[39m\u001b[38;5;124mproduct_thumb\u001b[39m\u001b[38;5;124m\"\u001b[39m})[\u001b[38;5;241m0\u001b[39m]\u001b[38;5;241m.\u001b[39mfind_all(\u001b[38;5;124m\"\u001b[39m\u001b[38;5;124mimg\u001b[39m\u001b[38;5;124m\"\u001b[39m))\n\u001b[1;32m----> 9\u001b[0m \u001b[43mos\u001b[49m\u001b[38;5;241;43m.\u001b[39;49m\u001b[43mmkdir\u001b[49m\u001b[43m(\u001b[49m\u001b[38;5;28;43mstr\u001b[39;49m\u001b[43m(\u001b[49m\u001b[43mgoods_id\u001b[49m\u001b[43m)\u001b[49m\u001b[43m)\u001b[49m\n\u001b[0;32m     10\u001b[0m \u001b[38;5;28;01mfor\u001b[39;00m i \u001b[38;5;129;01min\u001b[39;00m \u001b[38;5;28mrange\u001b[39m(count):\n\u001b[0;32m     11\u001b[0m     temp \u001b[38;5;241m=\u001b[39m \u001b[38;5;28mstr\u001b[39m(goods_id) \u001b[38;5;241m+\u001b[39m \u001b[38;5;124m\"\u001b[39m\u001b[38;5;124m_\u001b[39m\u001b[38;5;124m\"\u001b[39m \u001b[38;5;241m+\u001b[39m \u001b[38;5;28mstr\u001b[39m(k)\n",
      "\u001b[1;31mFileExistsError\u001b[0m: [WinError 183] 파일이 이미 있으므로 만들 수 없습니다: '1848166'"
     ]
    }
   ],
   "source": [
    "path = r\"C:\\Users\\NT550\\Desktop\\chromedriver.exe\" # 크롬드라이버 경로 입력\n",
    "s = Service(path)\n",
    "chrome_options = Options()\n",
    "chrome_options.add_argument('--headless')  # 화면에 브라우저가 나타나지 않도록 headless 모드로 실행합니다.\n",
    "\n",
    "driver = webdriver.Chrome(service=s)\n",
    "\n",
    "goods_ids = [1848166,3105468,3324814,3134702] # 예시\n",
    "\n",
    "# 완료 리스트\n",
    "done_list = []\n",
    "\n",
    "# img_get 함수 돌리기\n",
    "for goods_id in goods_ids:\n",
    "    done_id = get_main_img(goods_id)\n",
    "    done_list.append(done_id)\n",
    "\n",
    "# DF 변환\n",
    "id_list = pd.DataFrame(done_list,columns=[\"goods_id\",\"result\"])\n",
    "\n",
    "# 저장경로\n",
    "id_list.to_csv('img_list.csv')"
   ]
  },
  {
   "cell_type": "code",
   "execution_count": 102,
   "id": "beee64da",
   "metadata": {},
   "outputs": [],
   "source": [
    "review = pd.read_csv(\"review/review_4000.csv\",index_col=False)"
   ]
  },
  {
   "cell_type": "code",
   "execution_count": 119,
   "id": "cba60ef4",
   "metadata": {},
   "outputs": [
    {
     "data": {
      "text/plain": [
       "와이드 히든 밴딩 슬랙스 [미디엄 그레이]          71\n",
       "릴렉스드 베이식 블레이저 [블랙]               54\n",
       "와이드 히든 밴딩 슬랙스 [블랙]               45\n",
       "릴렉스 핏 크루 넥 반팔 티셔츠 [화이트]          41\n",
       "테이퍼드 히든 밴딩 크롭 슬랙스 [블랙]           38\n",
       "                                 ..\n",
       "우먼즈 플리츠 미니 스커트 [블랙]               1\n",
       "[쿨탠다드] 크루 넥 긴팔 티셔츠 [네이비]          1\n",
       "우먼즈 오버사이즈 실키 셔츠 [블랙]              1\n",
       "[쿨탠다드] 오버사이즈 크루 넥 반팔 티셔츠 [블랙]     1\n",
       "폴라 플리스 스웨트 팬츠 [더스티 베이지]           1\n",
       "Name: goods_name, Length: 1400, dtype: int64"
      ]
     },
     "execution_count": 119,
     "metadata": {},
     "output_type": "execute_result"
    }
   ],
   "source": [
    "review[\"goods_name\"].value_counts()"
   ]
  }
 ],
 "metadata": {
  "kernelspec": {
   "display_name": "Python 3 (ipykernel)",
   "language": "python",
   "name": "python3"
  },
  "language_info": {
   "codemirror_mode": {
    "name": "ipython",
    "version": 3
   },
   "file_extension": ".py",
   "mimetype": "text/x-python",
   "name": "python",
   "nbconvert_exporter": "python",
   "pygments_lexer": "ipython3",
   "version": "3.10.9"
  }
 },
 "nbformat": 4,
 "nbformat_minor": 5
}
